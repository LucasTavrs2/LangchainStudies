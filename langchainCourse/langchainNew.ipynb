{
 "cells": [
  {
   "cell_type": "code",
   "execution_count": 1,
   "metadata": {},
   "outputs": [
    {
     "name": "stdout",
     "output_type": "stream",
     "text": [
      "Requirement already satisfied: langchain in /Users/lucastavrs2/miniconda/lib/python3.10/site-packages (0.1.11)\n",
      "Requirement already satisfied: aiohttp<4.0.0,>=3.8.3 in /Users/lucastavrs2/miniconda/lib/python3.10/site-packages (from langchain) (3.8.4)\n",
      "Requirement already satisfied: langchain-text-splitters<0.1,>=0.0.1 in /Users/lucastavrs2/miniconda/lib/python3.10/site-packages (from langchain) (0.0.1)\n",
      "Requirement already satisfied: PyYAML>=5.3 in /Users/lucastavrs2/miniconda/lib/python3.10/site-packages (from langchain) (6.0)\n",
      "Requirement already satisfied: dataclasses-json<0.7,>=0.5.7 in /Users/lucastavrs2/miniconda/lib/python3.10/site-packages (from langchain) (0.6.4)\n",
      "Requirement already satisfied: langchain-community<0.1,>=0.0.25 in /Users/lucastavrs2/miniconda/lib/python3.10/site-packages (from langchain) (0.0.25)\n",
      "Requirement already satisfied: async-timeout<5.0.0,>=4.0.0 in /Users/lucastavrs2/miniconda/lib/python3.10/site-packages (from langchain) (4.0.2)\n",
      "Requirement already satisfied: tenacity<9.0.0,>=8.1.0 in /Users/lucastavrs2/miniconda/lib/python3.10/site-packages (from langchain) (8.2.3)\n",
      "Requirement already satisfied: numpy<2,>=1 in /Users/lucastavrs2/miniconda/lib/python3.10/site-packages (from langchain) (1.24.4)\n",
      "Requirement already satisfied: pydantic<3,>=1 in /Users/lucastavrs2/miniconda/lib/python3.10/site-packages (from langchain) (2.6.3)\n",
      "Requirement already satisfied: langchain-core<0.2,>=0.1.29 in /Users/lucastavrs2/miniconda/lib/python3.10/site-packages (from langchain) (0.1.29)\n",
      "Requirement already satisfied: requests<3,>=2 in /Users/lucastavrs2/miniconda/lib/python3.10/site-packages (from langchain) (2.28.1)\n",
      "Requirement already satisfied: jsonpatch<2.0,>=1.33 in /Users/lucastavrs2/miniconda/lib/python3.10/site-packages (from langchain) (1.33)\n",
      "Requirement already satisfied: langsmith<0.2.0,>=0.1.17 in /Users/lucastavrs2/miniconda/lib/python3.10/site-packages (from langchain) (0.1.20)\n",
      "Requirement already satisfied: SQLAlchemy<3,>=1.4 in /Users/lucastavrs2/miniconda/lib/python3.10/site-packages (from langchain) (2.0.20)\n",
      "Requirement already satisfied: charset-normalizer<4.0,>=2.0 in /Users/lucastavrs2/miniconda/lib/python3.10/site-packages (from aiohttp<4.0.0,>=3.8.3->langchain) (2.0.4)\n",
      "Requirement already satisfied: attrs>=17.3.0 in /Users/lucastavrs2/miniconda/lib/python3.10/site-packages (from aiohttp<4.0.0,>=3.8.3->langchain) (23.1.0)\n",
      "Requirement already satisfied: multidict<7.0,>=4.5 in /Users/lucastavrs2/miniconda/lib/python3.10/site-packages (from aiohttp<4.0.0,>=3.8.3->langchain) (6.0.4)\n",
      "Requirement already satisfied: aiosignal>=1.1.2 in /Users/lucastavrs2/miniconda/lib/python3.10/site-packages (from aiohttp<4.0.0,>=3.8.3->langchain) (1.3.1)\n",
      "Requirement already satisfied: frozenlist>=1.1.1 in /Users/lucastavrs2/miniconda/lib/python3.10/site-packages (from aiohttp<4.0.0,>=3.8.3->langchain) (1.3.3)\n",
      "Requirement already satisfied: yarl<2.0,>=1.0 in /Users/lucastavrs2/miniconda/lib/python3.10/site-packages (from aiohttp<4.0.0,>=3.8.3->langchain) (1.9.2)\n",
      "Requirement already satisfied: marshmallow<4.0.0,>=3.18.0 in /Users/lucastavrs2/miniconda/lib/python3.10/site-packages (from dataclasses-json<0.7,>=0.5.7->langchain) (3.21.1)\n",
      "Requirement already satisfied: typing-inspect<1,>=0.4.0 in /Users/lucastavrs2/miniconda/lib/python3.10/site-packages (from dataclasses-json<0.7,>=0.5.7->langchain) (0.9.0)\n",
      "Requirement already satisfied: jsonpointer>=1.9 in /Users/lucastavrs2/miniconda/lib/python3.10/site-packages (from jsonpatch<2.0,>=1.33->langchain) (2.1)\n",
      "Requirement already satisfied: anyio<5,>=3 in /Users/lucastavrs2/miniconda/lib/python3.10/site-packages (from langchain-core<0.2,>=0.1.29->langchain) (4.3.0)\n",
      "Requirement already satisfied: packaging<24.0,>=23.2 in /Users/lucastavrs2/miniconda/lib/python3.10/site-packages (from langchain-core<0.2,>=0.1.29->langchain) (23.2)\n",
      "Requirement already satisfied: orjson<4.0.0,>=3.9.14 in /Users/lucastavrs2/miniconda/lib/python3.10/site-packages (from langsmith<0.2.0,>=0.1.17->langchain) (3.9.15)\n",
      "Requirement already satisfied: typing-extensions>=4.6.1 in /Users/lucastavrs2/miniconda/lib/python3.10/site-packages (from pydantic<3,>=1->langchain) (4.7.1)\n",
      "Requirement already satisfied: annotated-types>=0.4.0 in /Users/lucastavrs2/miniconda/lib/python3.10/site-packages (from pydantic<3,>=1->langchain) (0.6.0)\n",
      "Requirement already satisfied: pydantic-core==2.16.3 in /Users/lucastavrs2/miniconda/lib/python3.10/site-packages (from pydantic<3,>=1->langchain) (2.16.3)\n",
      "Requirement already satisfied: urllib3<1.27,>=1.21.1 in /Users/lucastavrs2/miniconda/lib/python3.10/site-packages (from requests<3,>=2->langchain) (1.26.15)\n",
      "Requirement already satisfied: idna<4,>=2.5 in /Users/lucastavrs2/miniconda/lib/python3.10/site-packages (from requests<3,>=2->langchain) (3.4)\n",
      "Requirement already satisfied: certifi>=2017.4.17 in /Users/lucastavrs2/miniconda/lib/python3.10/site-packages (from requests<3,>=2->langchain) (2023.7.22)\n",
      "Requirement already satisfied: greenlet!=0.4.17 in /Users/lucastavrs2/miniconda/lib/python3.10/site-packages (from SQLAlchemy<3,>=1.4->langchain) (2.0.2)\n",
      "Requirement already satisfied: exceptiongroup>=1.0.2 in /Users/lucastavrs2/miniconda/lib/python3.10/site-packages (from anyio<5,>=3->langchain-core<0.2,>=0.1.29->langchain) (1.1.1)\n",
      "Requirement already satisfied: sniffio>=1.1 in /Users/lucastavrs2/miniconda/lib/python3.10/site-packages (from anyio<5,>=3->langchain-core<0.2,>=0.1.29->langchain) (1.3.1)\n",
      "Requirement already satisfied: mypy-extensions>=0.3.0 in /Users/lucastavrs2/miniconda/lib/python3.10/site-packages (from typing-inspect<1,>=0.4.0->dataclasses-json<0.7,>=0.5.7->langchain) (1.0.0)\n",
      "Note: you may need to restart the kernel to use updated packages.\n"
     ]
    }
   ],
   "source": [
    "%pip install langchain"
   ]
  },
  {
   "cell_type": "code",
   "execution_count": 2,
   "metadata": {},
   "outputs": [],
   "source": [
    "import os\n",
    "os.environ['OPENAI_API_KEY'] = ''"
   ]
  },
  {
   "cell_type": "code",
   "execution_count": 3,
   "metadata": {},
   "outputs": [],
   "source": [
    "from langchain.chat_models import ChatOpenAI"
   ]
  },
  {
   "cell_type": "code",
   "execution_count": 4,
   "metadata": {},
   "outputs": [
    {
     "name": "stderr",
     "output_type": "stream",
     "text": [
      "/Users/lucastavrs2/miniconda/lib/python3.10/site-packages/langchain_core/_api/deprecation.py:117: LangChainDeprecationWarning: The class `langchain_community.chat_models.openai.ChatOpenAI` was deprecated in langchain-community 0.0.10 and will be removed in 0.2.0. An updated version of the class exists in the langchain-openai package and should be used instead. To use it run `pip install -U langchain-openai` and import as `from langchain_openai import ChatOpenAI`.\n",
      "  warn_deprecated(\n"
     ]
    }
   ],
   "source": [
    "llm = ChatOpenAI(temperature =0.0)"
   ]
  },
  {
   "cell_type": "code",
   "execution_count": 5,
   "metadata": {},
   "outputs": [],
   "source": [
    "lang= 'inglês'\n",
    "text= 'ainda'"
   ]
  },
  {
   "cell_type": "code",
   "execution_count": 6,
   "metadata": {},
   "outputs": [],
   "source": [
    "prompt = f'''Traduza para o {lang} o seguinte texto:\n",
    "{text}\n",
    "'''"
   ]
  },
  {
   "cell_type": "code",
   "execution_count": 7,
   "metadata": {},
   "outputs": [],
   "source": [
    "from langchain.prompts import ChatPromptTemplate\n",
    "chat_template = ChatPromptTemplate.from_template(prompt)"
   ]
  },
  {
   "cell_type": "code",
   "execution_count": 8,
   "metadata": {},
   "outputs": [
    {
     "data": {
      "text/plain": [
       "ChatPromptTemplate(input_variables=[], messages=[HumanMessagePromptTemplate(prompt=PromptTemplate(input_variables=[], template='Traduza para o inglês o seguinte texto:\\nainda\\n'))])"
      ]
     },
     "execution_count": 8,
     "metadata": {},
     "output_type": "execute_result"
    }
   ],
   "source": [
    "chat_template"
   ]
  },
  {
   "cell_type": "code",
   "execution_count": 9,
   "metadata": {},
   "outputs": [
    {
     "data": {
      "text/plain": [
       "'Traduza para o inglês o seguinte texto:\\nainda\\n'"
      ]
     },
     "execution_count": 9,
     "metadata": {},
     "output_type": "execute_result"
    }
   ],
   "source": [
    "chat_template.messages[0].prompt.template"
   ]
  },
  {
   "cell_type": "code",
   "execution_count": 10,
   "metadata": {},
   "outputs": [
    {
     "data": {
      "text/plain": [
       "[]"
      ]
     },
     "execution_count": 10,
     "metadata": {},
     "output_type": "execute_result"
    }
   ],
   "source": [
    "chat_template.messages[0].prompt.input_variables"
   ]
  },
  {
   "cell_type": "code",
   "execution_count": 11,
   "metadata": {},
   "outputs": [],
   "source": [
    "prompt_engineered = chat_template.format_messages(\n",
    "                    lang = 'francês',\n",
    "                    text = 'Leclerc se chateia com Ferrari: \"Dificultando nossa própria vida.\\\n",
    "                    Piloto de Mônaco sugeriu que a equipe colocasse pneus secos para o Q2 na classificação do GP do Canadá,\\\n",
    "                    mas a escuderia negou; titular do carro 16 acabou eliminado e obteve 11º tempo da sessão.')"
   ]
  },
  {
   "cell_type": "code",
   "execution_count": 12,
   "metadata": {},
   "outputs": [
    {
     "data": {
      "text/plain": [
       "[HumanMessage(content='Traduza para o inglês o seguinte texto:\\nainda\\n')]"
      ]
     },
     "execution_count": 12,
     "metadata": {},
     "output_type": "execute_result"
    }
   ],
   "source": [
    "prompt_engineered"
   ]
  },
  {
   "cell_type": "code",
   "execution_count": 13,
   "metadata": {},
   "outputs": [
    {
     "name": "stderr",
     "output_type": "stream",
     "text": [
      "/Users/lucastavrs2/miniconda/lib/python3.10/site-packages/langchain_core/_api/deprecation.py:117: LangChainDeprecationWarning: The function `__call__` was deprecated in LangChain 0.1.7 and will be removed in 0.2.0. Use invoke instead.\n",
      "  warn_deprecated(\n"
     ]
    }
   ],
   "source": [
    "response = llm(prompt_engineered)"
   ]
  },
  {
   "cell_type": "code",
   "execution_count": 14,
   "metadata": {},
   "outputs": [
    {
     "data": {
      "text/plain": [
       "'still'"
      ]
     },
     "execution_count": 14,
     "metadata": {},
     "output_type": "execute_result"
    }
   ],
   "source": [
    "response.content"
   ]
  },
  {
   "cell_type": "code",
   "execution_count": 15,
   "metadata": {},
   "outputs": [],
   "source": [
    "from langchain.prompts.few_shot import FewShotPromptTemplate\n",
    "from langchain.prompts.prompt import PromptTemplate"
   ]
  },
  {
   "cell_type": "code",
   "execution_count": 16,
   "metadata": {},
   "outputs": [],
   "source": [
    "examples= [ \n",
    "    {\n",
    "        \"question\": \"Quem viveu mais, Muhammad Ali ou Alan Turing?\",\n",
    "        \"answer\":\n",
    "    \"\"\"\n",
    "    São necessárias perguntas de acompanhamento aqui? Sim.\n",
    "    Acompanhamento: Qual era a idade de Muhammad Ali quando ele morreu?\n",
    "    Resposta intermediáia: Muhammad Ali tinha 74 anos quando ele morreu.\n",
    "    Acompanhamento: Qual a idade de Alan Turing quando ele morreu?\n",
    "    Resposta intermediária: Alan Turing tinha 41 anos de idade quando morreu.\n",
    "    Portanto, a resposta final é: Muhammad Ali\n",
    "    \"\"\"\n",
    "    },\n",
    "    {\n",
    "        \"question\": \"Quando nasceu o fundador do craiglist?\",\n",
    "        \"answer\":\n",
    "    \"\"\"\n",
    "    São necessárias perguntas complementares aqui? Sim.\n",
    "    Acompanhamento: Quem foi o fundador da craiglist?\n",
    "    Resposta intermediária: A craiglist foi fundada por Craig Newmark.\n",
    "    Acompanhamento: Quando Carig Newmark nasceu?\n",
    "    Resposta intermediária: Craig Newmark nasceu em 6 de dezembro de 1952\n",
    "    Portanto, a resposta final é: 6 de dezembro de 1952    \n",
    "    \"\"\"\n",
    "    }\n",
    "]"
   ]
  },
  {
   "cell_type": "code",
   "execution_count": 17,
   "metadata": {},
   "outputs": [],
   "source": [
    "example_prompt = PromptTemplate(input_variables=[\"question\", \"answer\"], template=\"pergunta: {question}\\n{answer}\")"
   ]
  },
  {
   "cell_type": "code",
   "execution_count": 18,
   "metadata": {},
   "outputs": [],
   "source": [
    "prompt = FewShotPromptTemplate(\n",
    "    examples=examples,\n",
    "    example_prompt=example_prompt,\n",
    "    suffix=\"Pergunta: {input}\",\n",
    "    input_variables=[\"input\"]\n",
    ")"
   ]
  },
  {
   "cell_type": "code",
   "execution_count": 19,
   "metadata": {},
   "outputs": [
    {
     "name": "stdout",
     "output_type": "stream",
     "text": [
      "pergunta: Quem viveu mais, Muhammad Ali ou Alan Turing?\n",
      "\n",
      "    São necessárias perguntas de acompanhamento aqui? Sim.\n",
      "    Acompanhamento: Qual era a idade de Muhammad Ali quando ele morreu?\n",
      "    Resposta intermediáia: Muhammad Ali tinha 74 anos quando ele morreu.\n",
      "    Acompanhamento: Qual a idade de Alan Turing quando ele morreu?\n",
      "    Resposta intermediária: Alan Turing tinha 41 anos de idade quando morreu.\n",
      "    Portanto, a resposta final é: Muhammad Ali\n",
      "    \n",
      "\n",
      "pergunta: Quando nasceu o fundador do craiglist?\n",
      "\n",
      "    São necessárias perguntas complementares aqui? Sim.\n",
      "    Acompanhamento: Quem foi o fundador da craiglist?\n",
      "    Resposta intermediária: A craiglist foi fundada por Craig Newmark.\n",
      "    Acompanhamento: Quando Carig Newmark nasceu?\n",
      "    Resposta intermediária: Craig Newmark nasceu em 6 de dezembro de 1952\n",
      "    Portanto, a resposta final é: 6 de dezembro de 1952    \n",
      "    \n",
      "\n",
      "Pergunta: Quem ganhou mais prêmios Emmy, Mad Men ou Sopranos?\n"
     ]
    }
   ],
   "source": [
    "print(prompt.format(input=\"Quem ganhou mais prêmios Emmy, Mad Men ou Sopranos?\"))"
   ]
  },
  {
   "cell_type": "code",
   "execution_count": 20,
   "metadata": {},
   "outputs": [],
   "source": [
    "prompt = ChatPromptTemplate.from_template(prompt.format(input=\"Quem ganhou mais prêmios Emmy, Mad men ou Sopranpos?\"))"
   ]
  },
  {
   "cell_type": "code",
   "execution_count": 21,
   "metadata": {},
   "outputs": [],
   "source": [
    "result = llm(prompt.format_messages())"
   ]
  },
  {
   "cell_type": "code",
   "execution_count": 22,
   "metadata": {},
   "outputs": [
    {
     "name": "stdout",
     "output_type": "stream",
     "text": [
      "São necessárias perguntas de acompanhamento aqui? Sim.\n",
      "Acompanhamento: Quantos prêmios Emmy Mad Men ganhou?\n",
      "Resposta intermediária: Mad Men ganhou um total de 16 prêmios Emmy.\n",
      "Acompanhamento: Quantos prêmios Emmy Sopranos ganhou?\n",
      "Resposta intermediária: Sopranos ganhou um total de 21 prêmios Emmy.\n",
      "Portanto, a resposta final é: Sopranos.\n"
     ]
    }
   ],
   "source": [
    "print(result.content)"
   ]
  },
  {
   "cell_type": "code",
   "execution_count": 23,
   "metadata": {},
   "outputs": [],
   "source": [
    "from langchain.prompts.example_selector import LengthBasedExampleSelector"
   ]
  },
  {
   "cell_type": "code",
   "execution_count": 24,
   "metadata": {},
   "outputs": [],
   "source": [
    "example_selector = LengthBasedExampleSelector(\n",
    "    examples=examples,\n",
    "    example_prompt=example_prompt,\n",
    "    max_length=55,\n",
    ")"
   ]
  },
  {
   "cell_type": "code",
   "execution_count": 25,
   "metadata": {},
   "outputs": [],
   "source": [
    "prompt = FewShotPromptTemplate(\n",
    "    example_selector=example_selector,\n",
    "    example_prompt=example_prompt,\n",
    "    suffix=\"Pergunta: {input}\",\n",
    "    input_variables=[\"input\"]\n",
    ")"
   ]
  },
  {
   "cell_type": "code",
   "execution_count": 26,
   "metadata": {},
   "outputs": [
    {
     "name": "stdout",
     "output_type": "stream",
     "text": [
      "Pergunta: Quem ganhou mais prêmios Emmy, Mad Men ou Sopranos?\n"
     ]
    }
   ],
   "source": [
    "print(prompt.format(input=\"Quem ganhou mais prêmios Emmy, Mad Men ou Sopranos?\"))"
   ]
  },
  {
   "cell_type": "code",
   "execution_count": 27,
   "metadata": {},
   "outputs": [],
   "source": [
    "desired_output= {\n",
    "    'is_offensive': False,\n",
    "    'main_point': 'Harry is a great youtuber'\n",
    "}"
   ]
  },
  {
   "cell_type": "code",
   "execution_count": 28,
   "metadata": {},
   "outputs": [],
   "source": [
    "template_with_output_format = '''\n",
    "Para o seguinte comentário de um vídeo do youtube, extraia as seguintes informações\\\n",
    "is_offensive: Booleano - Se o comentário apresenta conteúdo ofensivo\\\n",
    "main_point: String - O ponto principal do comentário, em cinco palavras ou menos.\\\n",
    "\n",
    "Escreva a resposta em formato JSON com as seguintes propriedades: is_offensive, main_point.\\\n",
    "\n",
    "Comentário: {comment}\n",
    "'''"
   ]
  },
  {
   "cell_type": "code",
   "execution_count": 29,
   "metadata": {},
   "outputs": [],
   "source": [
    "comment = '''\n",
    "mercedesw211\n",
    "Há 2 horas\n",
    "You know that Harry is a serious man who cares for quality content when he doesn't use jeremy for clickbait.\n",
    "I really love this channel, no childish bs.\n",
    "'''"
   ]
  },
  {
   "cell_type": "code",
   "execution_count": 30,
   "metadata": {},
   "outputs": [],
   "source": [
    "chat_template = ChatPromptTemplate.from_template(template_with_output_format)"
   ]
  },
  {
   "cell_type": "code",
   "execution_count": 31,
   "metadata": {},
   "outputs": [],
   "source": [
    "prompt_engineered = chat_template.format_messages(comment = comment)"
   ]
  },
  {
   "cell_type": "code",
   "execution_count": 32,
   "metadata": {},
   "outputs": [],
   "source": [
    "request = llm(prompt_engineered)"
   ]
  },
  {
   "cell_type": "code",
   "execution_count": 33,
   "metadata": {},
   "outputs": [
    {
     "data": {
      "text/plain": [
       "'{\\n  \"is_offensive\": false,\\n  \"main_point\": \"Harry cares for quality content\"\\n}'"
      ]
     },
     "execution_count": 33,
     "metadata": {},
     "output_type": "execute_result"
    }
   ],
   "source": [
    "request.content"
   ]
  },
  {
   "cell_type": "code",
   "execution_count": 34,
   "metadata": {},
   "outputs": [
    {
     "data": {
      "text/plain": [
       "str"
      ]
     },
     "execution_count": 34,
     "metadata": {},
     "output_type": "execute_result"
    }
   ],
   "source": [
    "type(request.content)"
   ]
  },
  {
   "cell_type": "code",
   "execution_count": 35,
   "metadata": {},
   "outputs": [],
   "source": [
    "from langchain.output_parsers import ResponseSchema\n",
    "from langchain.output_parsers import StructuredOutputParser"
   ]
  },
  {
   "cell_type": "code",
   "execution_count": 36,
   "metadata": {},
   "outputs": [],
   "source": [
    "offensive = ResponseSchema(name=\"offensive\", description=\"O comentário apresenta conteúdo ofensivo?.\")\n",
    "main_point = ResponseSchema(name=\"main_point\", description=\"Argumento central do comentário\")\n",
    "\n",
    "response_schemas = [offensive, main_point]"
   ]
  },
  {
   "cell_type": "code",
   "execution_count": 37,
   "metadata": {},
   "outputs": [],
   "source": [
    "output_parser = StructuredOutputParser.from_response_schemas(response_schemas)"
   ]
  },
  {
   "cell_type": "code",
   "execution_count": 38,
   "metadata": {},
   "outputs": [],
   "source": [
    "format_instructions = output_parser.get_format_instructions()"
   ]
  },
  {
   "cell_type": "code",
   "execution_count": 39,
   "metadata": {},
   "outputs": [
    {
     "data": {
      "text/plain": [
       "'The output should be a markdown code snippet formatted in the following schema, including the leading and trailing \"```json\" and \"```\":\\n\\n```json\\n{\\n\\t\"offensive\": string  // O comentário apresenta conteúdo ofensivo?.\\n\\t\"main_point\": string  // Argumento central do comentário\\n}\\n```'"
      ]
     },
     "execution_count": 39,
     "metadata": {},
     "output_type": "execute_result"
    }
   ],
   "source": [
    "format_instructions"
   ]
  },
  {
   "cell_type": "code",
   "execution_count": 40,
   "metadata": {},
   "outputs": [],
   "source": [
    "template = '''\n",
    "Para o seguinte comentário de um vídeo do youtube, extraia as seguintes informações\\\n",
    "is_offensive: booleano - Se o comentário apresenta conteúdo ofensivo\\\n",
    "main_point: String - O ponto principal do comentário, em cinco palavras ou menos\\\n",
    "\n",
    "{format_instructions}\n",
    "\n",
    "Comentário: {comment}\n",
    "'''"
   ]
  },
  {
   "cell_type": "code",
   "execution_count": 41,
   "metadata": {},
   "outputs": [],
   "source": [
    "prompt = ChatPromptTemplate.from_template(template=template)\n",
    "\n",
    "messages = prompt.format_messages(comment=comment, format_instructions=format_instructions)"
   ]
  },
  {
   "cell_type": "code",
   "execution_count": 42,
   "metadata": {},
   "outputs": [
    {
     "name": "stdout",
     "output_type": "stream",
     "text": [
      "\n",
      "Para o seguinte comentário de um vídeo do youtube, extraia as seguintes informaçõesis_offensive: booleano - Se o comentário apresenta conteúdo ofensivomain_point: String - O ponto principal do comentário, em cinco palavras ou menos\n",
      "The output should be a markdown code snippet formatted in the following schema, including the leading and trailing \"```json\" and \"```\":\n",
      "\n",
      "```json\n",
      "{\n",
      "\t\"offensive\": string  // O comentário apresenta conteúdo ofensivo?.\n",
      "\t\"main_point\": string  // Argumento central do comentário\n",
      "}\n",
      "```\n",
      "\n",
      "Comentário: \n",
      "mercedesw211\n",
      "Há 2 horas\n",
      "You know that Harry is a serious man who cares for quality content when he doesn't use jeremy for clickbait.\n",
      "I really love this channel, no childish bs.\n",
      "\n",
      "\n"
     ]
    }
   ],
   "source": [
    "print(messages[0].content)"
   ]
  },
  {
   "cell_type": "code",
   "execution_count": 43,
   "metadata": {},
   "outputs": [],
   "source": [
    "response = llm(messages)"
   ]
  },
  {
   "cell_type": "code",
   "execution_count": 44,
   "metadata": {},
   "outputs": [
    {
     "data": {
      "text/plain": [
       "'```json\\n{\\n\\t\"offensive\": \"false\",\\n\\t\"main_point\": \"Harry cares for quality content\"\\n}\\n```'"
      ]
     },
     "execution_count": 44,
     "metadata": {},
     "output_type": "execute_result"
    }
   ],
   "source": [
    "response.content"
   ]
  },
  {
   "cell_type": "code",
   "execution_count": 45,
   "metadata": {},
   "outputs": [],
   "source": [
    "output_dict = output_parser.parse(response.content)"
   ]
  },
  {
   "cell_type": "code",
   "execution_count": 46,
   "metadata": {},
   "outputs": [
    {
     "data": {
      "text/plain": [
       "{'offensive': 'false', 'main_point': 'Harry cares for quality content'}"
      ]
     },
     "execution_count": 46,
     "metadata": {},
     "output_type": "execute_result"
    }
   ],
   "source": [
    "output_dict"
   ]
  },
  {
   "cell_type": "code",
   "execution_count": 47,
   "metadata": {},
   "outputs": [
    {
     "data": {
      "text/plain": [
       "'Harry cares for quality content'"
      ]
     },
     "execution_count": 47,
     "metadata": {},
     "output_type": "execute_result"
    }
   ],
   "source": [
    "output_dict.get('main_point')"
   ]
  },
  {
   "cell_type": "code",
   "execution_count": 48,
   "metadata": {},
   "outputs": [
    {
     "data": {
      "text/plain": [
       "dict"
      ]
     },
     "execution_count": 48,
     "metadata": {},
     "output_type": "execute_result"
    }
   ],
   "source": [
    "type(output_dict)"
   ]
  },
  {
   "cell_type": "code",
   "execution_count": 49,
   "metadata": {},
   "outputs": [],
   "source": [
    "from langchain import LLMChain"
   ]
  },
  {
   "cell_type": "code",
   "execution_count": 50,
   "metadata": {},
   "outputs": [],
   "source": [
    "prompt = ChatPromptTemplate.from_template(\n",
    "    \"Crie uma lista com as atividades necessárias para produzir o seguinte produto: {product}\"\n",
    ")"
   ]
  },
  {
   "cell_type": "code",
   "execution_count": 51,
   "metadata": {},
   "outputs": [],
   "source": [
    "chain = LLMChain(llm=llm, prompt=prompt)"
   ]
  },
  {
   "cell_type": "code",
   "execution_count": 52,
   "metadata": {},
   "outputs": [
    {
     "name": "stderr",
     "output_type": "stream",
     "text": [
      "/Users/lucastavrs2/miniconda/lib/python3.10/site-packages/langchain_core/_api/deprecation.py:117: LangChainDeprecationWarning: The function `run` was deprecated in LangChain 0.1.0 and will be removed in 0.2.0. Use invoke instead.\n",
      "  warn_deprecated(\n"
     ]
    },
    {
     "data": {
      "text/plain": [
       "'1. Pesquisar e selecionar os materiais necessários para a construção da guitarra, como madeira, metal, plástico, entre outros.\\n2. Cortar e moldar a madeira de acordo com o design da guitarra.\\n3. Montar o corpo da guitarra, incluindo a instalação do braço, captadores, ponte e tarraxas.\\n4. Lixar e polir a guitarra para garantir um acabamento suave e brilhante.\\n5. Pintar ou envernizar a guitarra de acordo com a preferência do cliente.\\n6. Instalar os controles de volume, tonalidade e chave seletora.\\n7. Testar a guitarra para garantir que todos os componentes estejam funcionando corretamente.\\n8. Embalar a guitarra de forma segura para o transporte e entrega ao cliente.'"
      ]
     },
     "execution_count": 52,
     "metadata": {},
     "output_type": "execute_result"
    }
   ],
   "source": [
    "result = chain.run(product= 'Guitarra')\n",
    "result"
   ]
  },
  {
   "cell_type": "code",
   "execution_count": 53,
   "metadata": {},
   "outputs": [],
   "source": [
    "products = [{'product': 'Frigideira'}, {'product': 'Cafeteira' }]"
   ]
  },
  {
   "cell_type": "code",
   "execution_count": 54,
   "metadata": {},
   "outputs": [
    {
     "data": {
      "text/plain": [
       "[{'text': '1. Pesquisar e selecionar os materiais adequados para a frigideira, como aço inoxidável, alumínio ou ferro fundido.\\n2. Projetar o design da frigideira, considerando o tamanho, formato e espessura do material.\\n3. Comprar os materiais necessários para a produção da frigideira.\\n4. Cortar e moldar o material de acordo com o design escolhido.\\n5. Soldar ou fundir as partes da frigideira, se necessário.\\n6. Polir e lixar a superfície da frigideira para garantir um acabamento liso.\\n7. Adicionar revestimentos antiaderentes, se desejado.\\n8. Testar a frigideira para garantir que ela está pronta para uso.\\n9. Embalar a frigideira de forma segura e adequada para o transporte.\\n10. Distribuir a frigideira para os pontos de venda ou clientes finais.'},\n",
       " {'text': '1. Pesquisar e selecionar os materiais necessários para a fabricação da cafeteira (aço inoxidável, plástico resistente ao calor, vidro, etc.)\\n2. Projetar o design da cafeteira, levando em consideração a funcionalidade e estética do produto\\n3. Desenvolver o protótipo da cafeteira para testar sua eficiência e durabilidade\\n4. Fabricar as peças da cafeteira, como o corpo, a jarra, o filtro, a resistência elétrica, etc.\\n5. Montar a cafeteira, unindo todas as peças de forma precisa e segura\\n6. Testar a cafeteira em diferentes condições para garantir seu funcionamento adequado\\n7. Embalar a cafeteira de forma segura e atrativa para o consumidor\\n8. Distribuir a cafeteira para os pontos de venda ou para a venda online\\n9. Promover a cafeteira através de campanhas de marketing e publicidade\\n10. Oferecer suporte técnico e assistência aos clientes que adquirirem a cafeteira.'}]"
      ]
     },
     "execution_count": 54,
     "metadata": {},
     "output_type": "execute_result"
    }
   ],
   "source": [
    "result = chain.apply(products)\n",
    "result"
   ]
  },
  {
   "cell_type": "code",
   "execution_count": 55,
   "metadata": {},
   "outputs": [],
   "source": [
    "from langchain.chains import SimpleSequentialChain"
   ]
  },
  {
   "cell_type": "code",
   "execution_count": 56,
   "metadata": {},
   "outputs": [],
   "source": [
    "# Primeiro prompt\n",
    "first_prompt = ChatPromptTemplate.from_template(\"Crie uma lista com as atividades necessárias para produzir o seguinte produto:{product}?\")\n",
    "\n",
    "# Chain 1\n",
    "list_activities = LLMChain(llm = llm, prompt = first_prompt)\n"
   ]
  },
  {
   "cell_type": "code",
   "execution_count": 57,
   "metadata": {},
   "outputs": [],
   "source": [
    "# Segundo prompt\n",
    "second_prompt = ChatPromptTemplate.from_template(\"Dentre as atividades escreva qual delas é a mais importante e o motivo:{list}\")\n",
    "\n",
    "# Chain 2\n",
    "most_important_activities = LLMChain(llm = llm, prompt = second_prompt)\n"
   ]
  },
  {
   "cell_type": "code",
   "execution_count": 58,
   "metadata": {},
   "outputs": [],
   "source": [
    "combined_chain = SimpleSequentialChain(chains=[list_activities, most_important_activities], verbose=True)"
   ]
  },
  {
   "cell_type": "code",
   "execution_count": 59,
   "metadata": {},
   "outputs": [
    {
     "name": "stdout",
     "output_type": "stream",
     "text": [
      "\n",
      "\n",
      "\u001b[1m> Entering new SimpleSequentialChain chain...\u001b[0m\n",
      "\u001b[36;1m\u001b[1;3m1. Definir o objetivo e público-alvo do bootcamp de programação\n",
      "2. Elaborar o conteúdo programático do bootcamp, incluindo linguagens de programação a serem ensinadas, metodologia de ensino, etc.\n",
      "3. Contratar instrutores qualificados para ministrar as aulas\n",
      "4. Definir a carga horária e a duração do bootcamp\n",
      "5. Providenciar o local onde as aulas serão ministradas\n",
      "6. Organizar a logística do evento, como alimentação, material didático, etc.\n",
      "7. Divulgar o bootcamp para atrair os participantes\n",
      "8. Realizar o processo de inscrição e seleção dos participantes\n",
      "9. Realizar o bootcamp, acompanhando o desenvolvimento dos participantes e garantindo a qualidade do ensino\n",
      "10. Avaliar o desempenho dos participantes e fornecer certificados de conclusão.\u001b[0m\n",
      "\u001b[33;1m\u001b[1;3mA atividade mais importante dentre as listadas é a número 1: Definir o objetivo e público-alvo do bootcamp de programação. Isso porque é fundamental ter clareza sobre o propósito do evento e para quem ele se destina, a fim de direcionar todas as outras etapas do planejamento. Ao definir o objetivo e o público-alvo, é possível elaborar um conteúdo programático adequado, contratar instrutores qualificados, definir a carga horária e duração do bootcamp, organizar a logística do evento, divulgar de forma eficaz, realizar o processo de inscrição e seleção dos participantes, acompanhar o desenvolvimento dos participantes durante o bootcamp e avaliar o desempenho ao final. Portanto, a definição do objetivo e público-alvo é a base para o sucesso de todo o processo.\u001b[0m\n",
      "\n",
      "\u001b[1m> Finished chain.\u001b[0m\n"
     ]
    },
    {
     "data": {
      "text/plain": [
       "'A atividade mais importante dentre as listadas é a número 1: Definir o objetivo e público-alvo do bootcamp de programação. Isso porque é fundamental ter clareza sobre o propósito do evento e para quem ele se destina, a fim de direcionar todas as outras etapas do planejamento. Ao definir o objetivo e o público-alvo, é possível elaborar um conteúdo programático adequado, contratar instrutores qualificados, definir a carga horária e duração do bootcamp, organizar a logística do evento, divulgar de forma eficaz, realizar o processo de inscrição e seleção dos participantes, acompanhar o desenvolvimento dos participantes durante o bootcamp e avaliar o desempenho ao final. Portanto, a definição do objetivo e público-alvo é a base para o sucesso de todo o processo.'"
      ]
     },
     "execution_count": 59,
     "metadata": {},
     "output_type": "execute_result"
    }
   ],
   "source": [
    "result = combined_chain.run('Bootcamp de programação')\n",
    "result"
   ]
  },
  {
   "cell_type": "code",
   "execution_count": 60,
   "metadata": {},
   "outputs": [],
   "source": [
    "import langchain\n",
    "langchain.degub = False"
   ]
  },
  {
   "cell_type": "code",
   "execution_count": 61,
   "metadata": {},
   "outputs": [
    {
     "name": "stdout",
     "output_type": "stream",
     "text": [
      "\n",
      "\n",
      "\u001b[1m> Entering new SimpleSequentialChain chain...\u001b[0m\n",
      "\u001b[36;1m\u001b[1;3m1. Definir o objetivo e público-alvo do bootcamp de programação\n",
      "2. Elaborar o conteúdo programático do bootcamp, incluindo linguagens de programação a serem abordadas, metodologia de ensino, etc.\n",
      "3. Contratar instrutores qualificados para ministrar as aulas\n",
      "4. Definir a carga horária e a duração do bootcamp\n",
      "5. Escolher o local onde as aulas serão ministradas\n",
      "6. Providenciar os materiais necessários para as aulas, como computadores, projetores, etc.\n",
      "7. Divulgar o bootcamp para atrair os participantes\n",
      "8. Realizar o processo de inscrição e seleção dos participantes\n",
      "9. Organizar a logística do evento, como alimentação, transporte, etc.\n",
      "10. Avaliar o desempenho dos participantes ao longo do bootcamp\n",
      "11. Emitir certificados de conclusão para os participantes\n",
      "12. Realizar um evento de encerramento para celebrar o término do bootcamp.\u001b[0m\n",
      "\u001b[33;1m\u001b[1;3mA atividade mais importante dentre as listadas é a número 1: Definir o objetivo e público-alvo do bootcamp de programação. Isso porque é fundamental ter clareza sobre o propósito do bootcamp e para quem ele se destina, a fim de garantir que todas as outras etapas sejam planejadas de acordo com esses objetivos. A definição do público-alvo irá influenciar diretamente na escolha do conteúdo programático, na contratação dos instrutores, na divulgação do evento e na avaliação do desempenho dos participantes, entre outras atividades. Portanto, é essencial ter uma compreensão sólida do objetivo e do público-alvo para garantir o sucesso do bootcamp de programação.\u001b[0m\n",
      "\n",
      "\u001b[1m> Finished chain.\u001b[0m\n"
     ]
    },
    {
     "data": {
      "text/plain": [
       "'A atividade mais importante dentre as listadas é a número 1: Definir o objetivo e público-alvo do bootcamp de programação. Isso porque é fundamental ter clareza sobre o propósito do bootcamp e para quem ele se destina, a fim de garantir que todas as outras etapas sejam planejadas de acordo com esses objetivos. A definição do público-alvo irá influenciar diretamente na escolha do conteúdo programático, na contratação dos instrutores, na divulgação do evento e na avaliação do desempenho dos participantes, entre outras atividades. Portanto, é essencial ter uma compreensão sólida do objetivo e do público-alvo para garantir o sucesso do bootcamp de programação.'"
      ]
     },
     "execution_count": 61,
     "metadata": {},
     "output_type": "execute_result"
    }
   ],
   "source": [
    "combined_chain.run('Bootcamp de programação')"
   ]
  },
  {
   "cell_type": "code",
   "execution_count": 62,
   "metadata": {},
   "outputs": [],
   "source": [
    "from langchain.chains import SequentialChain"
   ]
  },
  {
   "cell_type": "code",
   "execution_count": 63,
   "metadata": {},
   "outputs": [],
   "source": [
    "# Determine o assunto da matéraise\n",
    "first_prompt = ChatPromptTemplate.from_template(\"Escreva o nome da principal área do conhecimento que seguinte matéria aborda: \\n\\n{news}\")\n",
    "\n",
    "# Chain 1 : Entrada=Matéria de jornal; saída=Lista de tópicos\n",
    "chain_one = LLMChain(llm=llm, prompt=first_prompt, output_key=\"topic\")\n",
    "\n"
   ]
  },
  {
   "cell_type": "code",
   "execution_count": 64,
   "metadata": {},
   "outputs": [],
   "source": [
    "# Encontre pesquisadores relacionados\n",
    "second_prompt = ChatPromptTemplate.from_template(\"Cite o nome de escritor famoso que escreve sobre a seguinte área do conhecimento: \\n\\n{topic}\")\n",
    "\n",
    "# Chain 2 : Entrada=Lista de tópicos; saída=Lista de pesquisadores\n",
    "chain_two = LLMChain(llm=llm, prompt=second_prompt, output_key=\"writer\")\n",
    "\n"
   ]
  },
  {
   "cell_type": "code",
   "execution_count": 65,
   "metadata": {},
   "outputs": [],
   "source": [
    "# Escreva um resumo da matéria\n",
    "third_prompt = ChatPromptTemplate.from_template(\"Escreva um resumo da matéria a seguir: \\n\\n{news}\")\n",
    "\n",
    "# Chain 3 : Entrada=Matéria de jornal; saída=Resumo\n",
    "chain_three = LLMChain(llm=llm, prompt=third_prompt, output_key=\"summary\")\n",
    "\n"
   ]
  },
  {
   "cell_type": "code",
   "execution_count": 66,
   "metadata": {},
   "outputs": [],
   "source": [
    "# Escreva um resumo da matéria\n",
    "fourth_prompt = ChatPromptTemplate.from_template(\"Reescreva o seguinte texto no estilo de {writer} \\n\\n{summary}\")\n",
    "\n",
    "# Chain 3 : Entrada=Matéria de jornal; saída=Resumo\n",
    "chain_four = LLMChain(llm=llm, prompt=fourth_prompt, output_key=\"writer_summary\")\n",
    "\n"
   ]
  },
  {
   "cell_type": "code",
   "execution_count": 67,
   "metadata": {},
   "outputs": [],
   "source": [
    "writer_news_chains = SequentialChain(\n",
    "    chains=[chain_one, chain_two, chain_three, chain_four],\n",
    "    input_variables=[\"news\"],\n",
    "    output_variables=[\"topic\", \"writer\", \"summary\", \"writer_summary\"],\n",
    "    verbose=True\n",
    ")"
   ]
  },
  {
   "cell_type": "code",
   "execution_count": 68,
   "metadata": {},
   "outputs": [
    {
     "name": "stderr",
     "output_type": "stream",
     "text": [
      "/Users/lucastavrs2/miniconda/lib/python3.10/site-packages/langchain_core/_api/deprecation.py:117: LangChainDeprecationWarning: The function `__call__` was deprecated in LangChain 0.1.0 and will be removed in 0.2.0. Use invoke instead.\n",
      "  warn_deprecated(\n"
     ]
    },
    {
     "name": "stdout",
     "output_type": "stream",
     "text": [
      "\n",
      "\n",
      "\u001b[1m> Entering new SequentialChain chain...\u001b[0m\n",
      "\n",
      "\u001b[1m> Finished chain.\u001b[0m\n"
     ]
    }
   ],
   "source": [
    "result = writer_news_chains(\n",
    "    '''\n",
    "        Quem é o milionário da tecnologia que tenta alcançar a juventude eterna e 'diminuir' sua idade em 28 anos\n",
    "Da terapia com luz infravermelha, restrição a refeições após as 11h até o uso de anel peniano, Bryan Johnson recorre a uma série de ferramentas que ele considera rejuvenescedoras, mas são questionadas por especialistas.\n",
    "Tomar mais de 100 comprimidos por dia, fazer a última refeição do dia às 11h (sim, da manhã) e usar um anel peniano enquanto dorme... Estas são algumas das táticas extravagantes adotadas pelo empresário Bryan Johnson, que, aos 46 anos, tem o plano de voltar a ter a saúde de um jovem de 18.\n",
    "\n",
    "O milionário diz encarar seu corpo como se fosse um algoritmo, que pode ser configurado conforme os seus interesses. Para isso, criou que chama de protocolo Blueprint, que prevê, entre outras coisas, expor o rosto diariamente a um painel com luz infravermelha.\n",
    "    '''\n",
    ")"
   ]
  },
  {
   "cell_type": "code",
   "execution_count": 69,
   "metadata": {},
   "outputs": [
    {
     "data": {
      "text/plain": [
       "{'news': \"\\n        Quem é o milionário da tecnologia que tenta alcançar a juventude eterna e 'diminuir' sua idade em 28 anos\\nDa terapia com luz infravermelha, restrição a refeições após as 11h até o uso de anel peniano, Bryan Johnson recorre a uma série de ferramentas que ele considera rejuvenescedoras, mas são questionadas por especialistas.\\nTomar mais de 100 comprimidos por dia, fazer a última refeição do dia às 11h (sim, da manhã) e usar um anel peniano enquanto dorme... Estas são algumas das táticas extravagantes adotadas pelo empresário Bryan Johnson, que, aos 46 anos, tem o plano de voltar a ter a saúde de um jovem de 18.\\n\\nO milionário diz encarar seu corpo como se fosse um algoritmo, que pode ser configurado conforme os seus interesses. Para isso, criou que chama de protocolo Blueprint, que prevê, entre outras coisas, expor o rosto diariamente a um painel com luz infravermelha.\\n    \",\n",
       " 'topic': 'Medicina e Saúde',\n",
       " 'writer': 'Oliver Sacks',\n",
       " 'summary': 'O empresário Bryan Johnson, aos 46 anos, busca alcançar a juventude eterna e \"diminuir\" sua idade em 28 anos através de uma série de métodos considerados rejuvenescedores. Ele adota práticas como terapia com luz infravermelha, restrição a refeições após as 11h e uso de um anel peniano enquanto dorme. Johnson encara seu corpo como um algoritmo que pode ser configurado conforme seus interesses, e criou o protocolo Blueprint para alcançar seu objetivo. No entanto, essas práticas são questionadas por especialistas.',\n",
       " 'writer_summary': 'No auge de seus 46 anos, o empresário Bryan Johnson embarca em uma jornada em busca da juventude eterna, desafiando o tempo e desafiando as convenções da idade. Com uma determinação incomum, ele se lança em um experimento pessoal, buscando \"reduzir\" sua idade em 28 anos através de uma série de métodos considerados rejuvenescedores.\\n\\nJohnson adota abordagens pouco convencionais, como terapia com luz infravermelha, restrição de refeições após as 11h e até mesmo o uso de um anel peniano enquanto dorme. Para ele, seu corpo é como um algoritmo que pode ser reprogramado de acordo com seus desejos e interesses. Assim, ele desenvolveu o protocolo Blueprint, uma espécie de manual para alcançar seu ambicioso objetivo.\\n\\nNo entanto, essas práticas não convencionais têm sido alvo de questionamentos por parte de especialistas, que levantam preocupações sobre os potenciais riscos e efeitos colaterais desses métodos. Enquanto Johnson segue determinado em sua busca pela eterna juventude, o debate sobre os limites e as consequências de suas escolhas continua a ecoar entre os especialistas da área.'}"
      ]
     },
     "execution_count": 69,
     "metadata": {},
     "output_type": "execute_result"
    }
   ],
   "source": [
    "result"
   ]
  },
  {
   "cell_type": "code",
   "execution_count": 70,
   "metadata": {},
   "outputs": [],
   "source": [
    "chef_template = '''\n",
    "Você é um chefe de cozinha renomado e com muita experiência, além de ser extremamente didático.\n",
    "Se você não sabe a resposta de algo, você responde que não sabe.\n",
    "Responda a seguinte questão: {input} \n",
    "'''\n",
    "\n",
    "mechanic_template = '''\n",
    "Você é um mecãnico com experiência em todos os tipos de automóveis.\n",
    "Se você não sabe a resposta de algo, você responde que não sabe.\n",
    "Responda a seguinte questão: {input} \n",
    "'''"
   ]
  },
  {
   "cell_type": "code",
   "execution_count": 71,
   "metadata": {},
   "outputs": [],
   "source": [
    "prompt_infos= [\n",
    "    {\n",
    "        \"name\": \"gastronomy\",\n",
    "        \"description\": \"Recomendado para responder questões sobre gastronomia \",\n",
    "        \"prompt_template\": chef_template\n",
    "    },\n",
    "    {\n",
    "        \"name\": \"auto mechanic\",\n",
    "        \"description\": \"Recomendado para responder questões sobre mecânica de automóveis \",\n",
    "        \"prompt_template\": mechanic_template\n",
    "    }\n",
    "]"
   ]
  },
  {
   "cell_type": "code",
   "execution_count": 72,
   "metadata": {},
   "outputs": [],
   "source": [
    "from langchain.prompts import PromptTemplate\n",
    "from langchain.chains.router import MultiPromptChain\n",
    "from langchain.chains.router.llm_router import LLMRouterChain, RouterOutputParser"
   ]
  },
  {
   "cell_type": "code",
   "execution_count": 73,
   "metadata": {},
   "outputs": [],
   "source": [
    "destination_chains = {}\n",
    "for p_info in prompt_infos:\n",
    "    name = p_info[\"name\"]\n",
    "    prompt_template = p_info[\"prompt_template\"]\n",
    "    prompt = ChatPromptTemplate.from_template(template=prompt_template)\n",
    "    chain = LLMChain(llm=llm, prompt=prompt)\n",
    "    destination_chains[name] = chain\n",
    "\n",
    "destinations = [f\"{p['name']}: {p['description']}\" for p in prompt_infos]\n",
    "destinations_str = \"\\n\".join(destinations)"
   ]
  },
  {
   "cell_type": "code",
   "execution_count": 74,
   "metadata": {},
   "outputs": [],
   "source": [
    "default_prompt = ChatPromptTemplate.from_template(\"{input}\")\n",
    "default_chain = LLMChain(llm=llm, prompt=default_prompt)"
   ]
  },
  {
   "cell_type": "code",
   "execution_count": 75,
   "metadata": {},
   "outputs": [],
   "source": [
    "prompt_router_template = \"\"\"\n",
    "Dado um texto selecione o prompt mais adequado. \\\n",
    "Você receberá os nomes dos prompts disponíveis e uma decrição do motivo pelo qual o prompt é mais adequado. \\\n",
    "Você também pode revisar o texto original se achar que a revisão levará a uma resposta melhor do modelo de linguagem. \\\n",
    "\n",
    "<<<FORMATAÇÃO>>>\n",
    "Retorne um trecho de código markdown com um objeto JSON formatado da seguinte maneira:\n",
    "'''json\n",
    "{{{{\n",
    "\"destination\": string \\ nome do prompt a ser usado ou \"DEFAULT\"\n",
    "\"next_inputs\": string \\ uma versão modificada da entrada original \n",
    "}}}}\n",
    "''' \n",
    "\n",
    "LEMBRE-SE: \"destination\" DEVE ser um dos nomes de prompt candidatos especificados abaixo OU pode ser \"DEFAULT\" se a entrada não for adequada.\n",
    "LEMBRE-SE: \"next_inputs\" pode ser apenas a entrada original se você achar que nenhuma modificação é necessária. \n",
    "\n",
    "<<<PROMPTS CANDIDATOS>>>\n",
    "{destinations}\n",
    "\n",
    "<<<INPUT>>>\n",
    "{{input}}\n",
    "\n",
    "<<<OUTPUT (lembre se de incluir o '''json)>>>\n",
    "\"\"\""
   ]
  },
  {
   "cell_type": "code",
   "execution_count": 76,
   "metadata": {},
   "outputs": [],
   "source": [
    "router_template = prompt_router_template.format(\n",
    "    destinations = destinations_str \n",
    ")\n",
    "\n",
    "router_prompt = PromptTemplate(\n",
    "    template=router_template,\n",
    "    input_variables=[\"input\"],\n",
    "    output_parser=RouterOutputParser(),\n",
    ")\n",
    "\n",
    "router_chain = LLMRouterChain.from_llm(llm=llm, prompt=router_prompt)"
   ]
  },
  {
   "cell_type": "code",
   "execution_count": 77,
   "metadata": {},
   "outputs": [],
   "source": [
    "chain = MultiPromptChain(router_chain=router_chain,\n",
    "                        destination_chains=destination_chains,\n",
    "                        default_chain=default_chain, verbose= True    \n",
    "\n",
    ")"
   ]
  },
  {
   "cell_type": "code",
   "execution_count": 78,
   "metadata": {},
   "outputs": [
    {
     "name": "stdout",
     "output_type": "stream",
     "text": [
      "\n",
      "\n",
      "\u001b[1m> Entering new MultiPromptChain chain...\u001b[0m\n"
     ]
    },
    {
     "name": "stderr",
     "output_type": "stream",
     "text": [
      "/Users/lucastavrs2/miniconda/lib/python3.10/site-packages/langchain/chains/llm.py:316: UserWarning: The predict_and_parse method is deprecated, instead pass an output parser directly to LLMChain.\n",
      "  warnings.warn(\n"
     ]
    },
    {
     "name": "stdout",
     "output_type": "stream",
     "text": [
      "gastronomy: {'input': 'Qual é a receita de uma massa carbonara?'}\n",
      "\u001b[1m> Finished chain.\u001b[0m\n"
     ]
    },
    {
     "data": {
      "text/plain": [
       "'A receita tradicional de massa carbonara é feita com espaguete, bacon ou pancetta, queijo parmesão, ovos, pimenta do reino e sal. A preparação envolve cozinhar a massa al dente, fritar o bacon ou pancetta, misturar os ovos com queijo parmesão ralado, adicionar a massa cozida e misturar tudo rapidamente para que os ovos cozinhem com o calor da massa. Por fim, tempera-se com pimenta do reino e sal a gosto. Espero que essa explicação tenha sido útil!'"
      ]
     },
     "execution_count": 78,
     "metadata": {},
     "output_type": "execute_result"
    }
   ],
   "source": [
    "result = chain.run(\"Qual é a receita de uma massa carbonara?\")\n",
    "result"
   ]
  },
  {
   "cell_type": "code",
   "execution_count": 79,
   "metadata": {},
   "outputs": [
    {
     "name": "stdout",
     "output_type": "stream",
     "text": [
      "\n",
      "\n",
      "\u001b[1m> Entering new MultiPromptChain chain...\u001b[0m\n"
     ]
    },
    {
     "name": "stderr",
     "output_type": "stream",
     "text": [
      "/Users/lucastavrs2/miniconda/lib/python3.10/site-packages/langchain/chains/llm.py:316: UserWarning: The predict_and_parse method is deprecated, instead pass an output parser directly to LLMChain.\n",
      "  warnings.warn(\n"
     ]
    },
    {
     "name": "stdout",
     "output_type": "stream",
     "text": [
      "auto mechanic: {'input': 'Como trocar um pneu de carro?'}\n",
      "\u001b[1m> Finished chain.\u001b[0m\n"
     ]
    },
    {
     "data": {
      "text/plain": [
       "'Para trocar um pneu de carro, siga os seguintes passos:\\n\\n1. Estacione o carro em um local plano e seguro, acione o freio de mão e coloque o carro em ponto morto.\\n2. Retire o estepe, o macaco e a chave de roda do porta-malas.\\n3. Afrouxe os parafusos da roda com a chave de roda antes de levantar o carro.\\n4. Posicione o macaco no ponto de apoio indicado no manual do carro e comece a levantar o veículo até que a roda fique suspensa.\\n5. Retire os parafusos da roda e remova a roda furada.\\n6. Coloque o estepe no lugar da roda furada e aperte os parafusos de forma cruzada.\\n7. Abaixe o carro com cuidado, retire o macaco e termine de apertar os parafusos.\\n8. Guarde a roda furada, o macaco e a chave de roda no porta-malas.\\n\\nLembre-se de sempre seguir as instruções do manual do proprietário do veículo e, se tiver dúvidas, procure a ajuda de um profissional.'"
      ]
     },
     "execution_count": 79,
     "metadata": {},
     "output_type": "execute_result"
    }
   ],
   "source": [
    "result = chain.run(\"Como posso trocar um pneu?\")\n",
    "result"
   ]
  },
  {
   "cell_type": "code",
   "execution_count": 80,
   "metadata": {},
   "outputs": [
    {
     "name": "stdout",
     "output_type": "stream",
     "text": [
      "\n",
      "\n",
      "\u001b[1m> Entering new MultiPromptChain chain...\u001b[0m\n"
     ]
    },
    {
     "name": "stderr",
     "output_type": "stream",
     "text": [
      "/Users/lucastavrs2/miniconda/lib/python3.10/site-packages/langchain/chains/llm.py:316: UserWarning: The predict_and_parse method is deprecated, instead pass an output parser directly to LLMChain.\n",
      "  warnings.warn(\n"
     ]
    },
    {
     "name": "stdout",
     "output_type": "stream",
     "text": [
      "None: {'input': 'Como posso criar um cacto?'}\n",
      "\u001b[1m> Finished chain.\u001b[0m\n"
     ]
    },
    {
     "data": {
      "text/plain": [
       "'Para criar um cacto, você precisará seguir alguns passos simples:\\n\\n1. Escolha um vaso adequado: Certifique-se de que o vaso tenha furos de drenagem para evitar o acúmulo de água, o que pode apodrecer as raízes do cacto.\\n\\n2. Escolha o substrato certo: Use um substrato específico para cactos e suculentas, que seja bem drenado e permita que as raízes respirem.\\n\\n3. Plante o cacto: Retire o cacto do vaso em que veio e plante-o no novo vaso, certificando-se de que as raízes estejam cobertas e firmes no substrato.\\n\\n4. Regue com moderação: Os cactos são plantas que não precisam de muita água, por isso regue-os apenas quando o substrato estiver seco. Evite regar em excesso, pois isso pode causar apodrecimento das raízes.\\n\\n5. Coloque em um local com luz solar: Os cactos precisam de bastante luz solar para crescer saudáveis. Coloque o vaso em um local com luz indireta ou direta por algumas horas por dia.\\n\\n6. Fertilize ocasionalmente: Você pode fertilizar o cacto uma vez por mês durante a primavera e o verão, utilizando um fertilizante específico para cactos.\\n\\nSeguindo esses passos simples, você poderá criar e cuidar de um cacto saudável e bonito em sua casa.'"
      ]
     },
     "execution_count": 80,
     "metadata": {},
     "output_type": "execute_result"
    }
   ],
   "source": [
    "result = chain.run(\"Como posso criar um cacto?\")\n",
    "result"
   ]
  },
  {
   "cell_type": "markdown",
   "metadata": {},
   "source": []
  },
  {
   "cell_type": "code",
   "execution_count": 81,
   "metadata": {},
   "outputs": [],
   "source": [
    "from langchain.chains import TransformChain"
   ]
  },
  {
   "cell_type": "code",
   "execution_count": 82,
   "metadata": {},
   "outputs": [],
   "source": [
    "def get_first_and_last_paragraph(inputs: dict) -> dict:\n",
    "    text = inputs[ \"text\"]\n",
    "    paragraphs = list(filter(None, text.split(\"\\n\\n\")))\n",
    "    shortened_text = paragraphs[0]\n",
    "    shortened_text += paragraphs[-1]\n",
    "    shortened_text = ''.join(shortened_text)\n",
    "    return{\"output_text\": shortened_text}\n",
    "\n",
    "\n",
    "transform_chain = TransformChain(\n",
    "    input_variables=[\"text\"], output_variables=[\"output_text\"], transform=get_first_and_last_paragraph\n",
    ")\n",
    "\n"
   ]
  },
  {
   "cell_type": "code",
   "execution_count": 83,
   "metadata": {},
   "outputs": [],
   "source": [
    "template = \"\"\" \n",
    "Escreva um resumo so seguinte texto:\n",
    "{output_text}\n",
    "\n",
    "Resumo:\n",
    "\n",
    "\"\"\"\n",
    "prompt = PromptTemplate(input_variables=[\"output_text\"], template=template)\n",
    "llm_chain = LLMChain(llm=llm, prompt=prompt)"
   ]
  },
  {
   "cell_type": "code",
   "execution_count": 84,
   "metadata": {},
   "outputs": [],
   "source": [
    "sequential_chain = SimpleSequentialChain(chains=[transform_chain, llm_chain])"
   ]
  },
  {
   "cell_type": "code",
   "execution_count": 85,
   "metadata": {},
   "outputs": [
    {
     "data": {
      "text/plain": [
       "'O Nova Iguaçu Futebol Clube é uma agremiação esportiva fundada em 1990 na cidade de Nova Iguaçu, no Rio de Janeiro. Em 1991, obteve um terreno para a construção de seu Centro de Treinamento com a ajuda do ex-jogador Zico. Estreou no futebol profissional em 1994, conquistando seu primeiro título na Série B do Campeonato Estadual.'"
      ]
     },
     "execution_count": 85,
     "metadata": {},
     "output_type": "execute_result"
    }
   ],
   "source": [
    "sequential_chain.run(\n",
    "    '''\n",
    "    Nova Iguaçu Futebol Clube é uma agremiação esportiva da cidade de Nova Iguaçu, no estado do Rio de Janeiro, no Brasil. Foi fundado a 1 de abril de 1990.\n",
    "História\n",
    "\n",
    "Sede do Nova Iguaçu Futebol Clube.\n",
    "Foi concebido por 25 profissionais liberais encabeçados por Jânio Moraes, diretor-presidente do clube desde sua fundação até hoje. Teve seu início em uma sala de quarenta metros quadrados, localizada na Rua Topázio, número dez, no Centro de Nova Iguaçu. Um dos idealizadores do clube foi o ex-jogador Zinho, que foi titular da Seleção Brasileira na Copa do Mundo FIFA de 1994.\n",
    "A cor adotada pelo time foi o laranja, em homenagem ao período em que Nova Iguaçu foi um dos maiores exportadores de laranjas do mundo, na década de 1930 (a fruta é, ainda hoje, um dos principais símbolos da cidade).\n",
    "\n",
    "Time de Juniores em 2010, campeão do Torneio Otávio Pinto Guimarães de Juniores\n",
    "Em 1991, os dirigentes do Nova Iguaçu obtiveram a posse de um terreno de 135.000 metros quadrados para a construção de seu Centro de Treinamento através do então secretário de Esportes do Governo Fernando Collor, o ex-jogador Zico.\n",
    "Estreou no futebol profissional, em 1994, na Série B do Campeonato Estadual, na prática uma Terceira Divisão, pois havia acima o Módulo Intermediário, que, na realidade, era a verdadeira Segunda Divisão. Na primeira fase, se classificou em segundo, atrás somente do América de Três Rios. Na fase final, se habilitou à final contra o Goytacaz Futebol Clube, vencendo-o nos penâltis por 3 a 2, pois a partida terminou sem contagem no marcador. Foi o primeiro título da equipe comandada pelo técnico Paulo César.\n",
    "    '''\n",
    ")"
   ]
  },
  {
   "cell_type": "code",
   "execution_count": 86,
   "metadata": {},
   "outputs": [],
   "source": [
    "from langchain.chains import ConversationChain\n",
    "from langchain.memory import ConversationBufferMemory"
   ]
  },
  {
   "cell_type": "code",
   "execution_count": 87,
   "metadata": {},
   "outputs": [],
   "source": [
    "memory = ConversationBufferMemory()\n",
    "conversation = ConversationChain(\n",
    "    llm=llm,\n",
    "    memory=memory,\n",
    "    verbose=False\n",
    ")"
   ]
  },
  {
   "cell_type": "code",
   "execution_count": 88,
   "metadata": {},
   "outputs": [
    {
     "data": {
      "text/plain": [
       "'Olá! Estou bem, obrigado por perguntar. Como posso ajudá-lo hoje?'"
      ]
     },
     "execution_count": 88,
     "metadata": {},
     "output_type": "execute_result"
    }
   ],
   "source": [
    "conversation.predict(input=\"Olá! Como vai você?\")"
   ]
  },
  {
   "cell_type": "code",
   "execution_count": 89,
   "metadata": {},
   "outputs": [
    {
     "data": {
      "text/plain": [
       "'Existem várias maneiras de divulgar um curso online de programação. Você pode usar plataformas de mídia social como Facebook, Instagram e Twitter para promover o curso. Além disso, você pode criar anúncios pagos no Google Ads ou em outras plataformas de publicidade online. Também é importante otimizar o SEO do seu site para que ele apareça nos resultados de pesquisa relevantes. Outra opção é colaborar com influenciadores ou blogs de tecnologia para alcançar um público maior. Espero que essas dicas sejam úteis para você!'"
      ]
     },
     "execution_count": 89,
     "metadata": {},
     "output_type": "execute_result"
    }
   ],
   "source": [
    "conversation.predict(input=\"Como posso divulgar um curso online de programação?\")"
   ]
  },
  {
   "cell_type": "code",
   "execution_count": 90,
   "metadata": {},
   "outputs": [
    {
     "data": {
      "text/plain": [
       "'Human: Olá! Como vai você?\\nAI: Olá! Estou bem, obrigado por perguntar. Como posso ajudá-lo hoje?\\nHuman: Como posso divulgar um curso online de programação?\\nAI: Existem várias maneiras de divulgar um curso online de programação. Você pode usar plataformas de mídia social como Facebook, Instagram e Twitter para promover o curso. Além disso, você pode criar anúncios pagos no Google Ads ou em outras plataformas de publicidade online. Também é importante otimizar o SEO do seu site para que ele apareça nos resultados de pesquisa relevantes. Outra opção é colaborar com influenciadores ou blogs de tecnologia para alcançar um público maior. Espero que essas dicas sejam úteis para você!'"
      ]
     },
     "execution_count": 90,
     "metadata": {},
     "output_type": "execute_result"
    }
   ],
   "source": [
    "memory.buffer"
   ]
  },
  {
   "cell_type": "code",
   "execution_count": 91,
   "metadata": {},
   "outputs": [
    {
     "data": {
      "text/plain": [
       "{'history': 'Human: Olá! Como vai você?\\nAI: Olá! Estou bem, obrigado por perguntar. Como posso ajudá-lo hoje?\\nHuman: Como posso divulgar um curso online de programação?\\nAI: Existem várias maneiras de divulgar um curso online de programação. Você pode usar plataformas de mídia social como Facebook, Instagram e Twitter para promover o curso. Além disso, você pode criar anúncios pagos no Google Ads ou em outras plataformas de publicidade online. Também é importante otimizar o SEO do seu site para que ele apareça nos resultados de pesquisa relevantes. Outra opção é colaborar com influenciadores ou blogs de tecnologia para alcançar um público maior. Espero que essas dicas sejam úteis para você!'}"
      ]
     },
     "execution_count": 91,
     "metadata": {},
     "output_type": "execute_result"
    }
   ],
   "source": [
    "memory.load_memory_variables({})"
   ]
  },
  {
   "cell_type": "code",
   "execution_count": 92,
   "metadata": {},
   "outputs": [],
   "source": [
    "memory = ConversationBufferMemory()"
   ]
  },
  {
   "cell_type": "code",
   "execution_count": 93,
   "metadata": {},
   "outputs": [],
   "source": [
    "memory.save_context(\n",
    "    {\"input\": \"Olá\"},\n",
    "    {\"output\": \"Opa\"}\n",
    ")"
   ]
  },
  {
   "cell_type": "code",
   "execution_count": 8,
   "metadata": {},
   "outputs": [
    {
     "ename": "ValidationError",
     "evalue": "1 validation error for OpenAIEmbeddings\n__root__\n  Did not find openai_api_key, please add an environment variable `OPENAI_API_KEY` which contains it, or pass `openai_api_key` as a named parameter. (type=value_error)",
     "output_type": "error",
     "traceback": [
      "\u001b[0;31m---------------------------------------------------------------------------\u001b[0m",
      "\u001b[0;31mValidationError\u001b[0m                           Traceback (most recent call last)",
      "Cell \u001b[0;32mIn[8], line 2\u001b[0m\n\u001b[1;32m      1\u001b[0m \u001b[39mfrom\u001b[39;00m \u001b[39mlangchain\u001b[39;00m\u001b[39m.\u001b[39;00m\u001b[39membeddings\u001b[39;00m \u001b[39mimport\u001b[39;00m OpenAIEmbeddings\n\u001b[0;32m----> 2\u001b[0m embeddings \u001b[39m=\u001b[39m OpenAIEmbeddings()\n",
      "File \u001b[0;32m~/miniconda/lib/python3.10/site-packages/langchain_core/_api/deprecation.py:180\u001b[0m, in \u001b[0;36mdeprecated.<locals>.deprecate.<locals>.finalize.<locals>.warn_if_direct_instance\u001b[0;34m(self, *args, **kwargs)\u001b[0m\n\u001b[1;32m    178\u001b[0m     warned \u001b[39m=\u001b[39m \u001b[39mTrue\u001b[39;00m\n\u001b[1;32m    179\u001b[0m     emit_warning()\n\u001b[0;32m--> 180\u001b[0m \u001b[39mreturn\u001b[39;00m wrapped(\u001b[39mself\u001b[39;49m, \u001b[39m*\u001b[39;49margs, \u001b[39m*\u001b[39;49m\u001b[39m*\u001b[39;49mkwargs)\n",
      "File \u001b[0;32m~/miniconda/lib/python3.10/site-packages/pydantic/v1/main.py:341\u001b[0m, in \u001b[0;36mBaseModel.__init__\u001b[0;34m(__pydantic_self__, **data)\u001b[0m\n\u001b[1;32m    339\u001b[0m values, fields_set, validation_error \u001b[39m=\u001b[39m validate_model(__pydantic_self__\u001b[39m.\u001b[39m\u001b[39m__class__\u001b[39m, data)\n\u001b[1;32m    340\u001b[0m \u001b[39mif\u001b[39;00m validation_error:\n\u001b[0;32m--> 341\u001b[0m     \u001b[39mraise\u001b[39;00m validation_error\n\u001b[1;32m    342\u001b[0m \u001b[39mtry\u001b[39;00m:\n\u001b[1;32m    343\u001b[0m     object_setattr(__pydantic_self__, \u001b[39m'\u001b[39m\u001b[39m__dict__\u001b[39m\u001b[39m'\u001b[39m, values)\n",
      "\u001b[0;31mValidationError\u001b[0m: 1 validation error for OpenAIEmbeddings\n__root__\n  Did not find openai_api_key, please add an environment variable `OPENAI_API_KEY` which contains it, or pass `openai_api_key` as a named parameter. (type=value_error)"
     ]
    }
   ],
   "source": [
    "from langchain.embeddings import OpenAIEmbeddings\n",
    "embeddings = OpenAIEmbeddings()"
   ]
  },
  {
   "cell_type": "code",
   "execution_count": 95,
   "metadata": {},
   "outputs": [
    {
     "data": {
      "text/plain": [
       "[-0.010833039924406719,\n",
       " -0.00422142680610032,\n",
       " -0.0028657529155450535,\n",
       " -0.015069907593196458,\n",
       " -0.03453726335680424,\n",
       " 0.01129625462921835,\n",
       " -0.01249443558533024,\n",
       " -0.008739311284050404,\n",
       " 0.00933840129644506,\n",
       " -0.004783460424421012,\n",
       " 0.02429713691345189,\n",
       " -0.03127623362306971,\n",
       " 0.0018327848595599552,\n",
       " -0.025347089499300188,\n",
       " 0.011765644934047683,\n",
       " -0.007448487014447155,\n",
       " 0.023074250763301444,\n",
       " -0.007374372829315358,\n",
       " 0.0028842813454126805,\n",
       " -0.0253964998873773,\n",
       " 0.007843763599805983,\n",
       " -0.005993993977552182,\n",
       " 0.00826992004789849,\n",
       " 0.011889169041595302,\n",
       " -0.0021771076224985364,\n",
       " -0.011265372903839511,\n",
       " 0.011395073542727412,\n",
       " -0.028608119233034714,\n",
       " 0.03700773805717595,\n",
       " -0.02808931854012827,\n",
       " 0.006392358362919862,\n",
       " 0.010894801512519238,\n",
       " -0.006627053515334529,\n",
       " -0.00846138227489891,\n",
       " 0.01351350737712228,\n",
       " -0.019739108241418987,\n",
       " -0.012834126182594255,\n",
       " -0.010061016347709914,\n",
       " 0.013007059746896402,\n",
       " 0.009733677881803888,\n",
       " 0.0004709346122873893,\n",
       " -3.9662729413588646e-05,\n",
       " 0.0163792595941754,\n",
       " -0.02269132817194576,\n",
       " 0.0033227910890164004,\n",
       " 0.020023213781910767,\n",
       " 0.0010870096784141973,\n",
       " -0.006904982058824734,\n",
       " -0.02880575706005284,\n",
       " 0.002207988416554796,\n",
       " 0.023049546500585466,\n",
       " 0.02710112754239249,\n",
       " -0.021777251825003067,\n",
       " -0.015119317049950988,\n",
       " -0.008257567916540504,\n",
       " -0.005435048624901631,\n",
       " -0.005388726968155952,\n",
       " 0.04436976108343976,\n",
       " -0.0026634826900217164,\n",
       " -0.04365332070087004,\n",
       " 0.010122777935822433,\n",
       " -0.009350754359125628,\n",
       " -0.021246098069416054,\n",
       " 0.003012437385804221,\n",
       " 0.0007913245386432567,\n",
       " 0.0072817299814852895,\n",
       " 0.011067735076821386,\n",
       " 0.027002308628883427,\n",
       " -0.0032795576979408633,\n",
       " 0.004304805322581252,\n",
       " -0.008535496925691997,\n",
       " 0.013278812224707613,\n",
       " -0.00501815557683568,\n",
       " -0.001681468107210898,\n",
       " 0.04397448542940351,\n",
       " -0.01857798367938106,\n",
       " -0.013229401836630504,\n",
       " 0.0025615755108425124,\n",
       " 0.003335143453205033,\n",
       " -0.010814511261708447,\n",
       " 0.045876749048791673,\n",
       " -0.039255872530458716,\n",
       " -0.016403963856891378,\n",
       " 0.02066553765104225,\n",
       " 0.010480997195784717,\n",
       " 0.005746946228118237,\n",
       " -0.0022203407807434286,\n",
       " 0.017342746329195205,\n",
       " 0.0018837384491495572,\n",
       " -0.022197231741755294,\n",
       " -0.003647041056421639,\n",
       " 0.019529117351720297,\n",
       " -0.00640471049427785,\n",
       " 0.017404507917307722,\n",
       " -0.0016119859713383468,\n",
       " 0.0008098530849262059,\n",
       " -0.00559254132651436,\n",
       " 0.024346547301529,\n",
       " -0.02006026924466215,\n",
       " -0.027175242193185577,\n",
       " 0.0021817395553424593,\n",
       " -0.008467558806239193,\n",
       " -0.010054839816369631,\n",
       " -0.01938088991277928,\n",
       " -0.020702593113793636,\n",
       " 0.00265267422583751,\n",
       " -0.013884078768442554,\n",
       " 0.0143411169419139,\n",
       " 0.047210809037776906,\n",
       " 0.00814022034033317,\n",
       " -0.025421204150093274,\n",
       " 0.021900775001228105,\n",
       " 0.0043974481704113205,\n",
       " -0.011172730521670731,\n",
       " -0.00887518752295601,\n",
       " -0.011327135423274608,\n",
       " -0.003038686247016557,\n",
       " -0.016181621767157275,\n",
       " 0.008696077427313579,\n",
       " -0.008263744447880786,\n",
       " 0.004638319854166271,\n",
       " -0.009214878120220022,\n",
       " -0.008201981928445689,\n",
       " 0.011277725966520078,\n",
       " 0.0018003598162533024,\n",
       " 0.002998540888780517,\n",
       " -0.0036223363280443737,\n",
       " -0.025692956627904485,\n",
       " -0.006015610440259306,\n",
       " -0.0030093493529647236,\n",
       " 0.030782139055524398,\n",
       " 0.018602687942097035,\n",
       " -0.029719833406995532,\n",
       " -0.010252477643387756,\n",
       " -0.025421204150093274,\n",
       " 0.011611240032443808,\n",
       " -0.022543098870359587,\n",
       " 0.009721325750445901,\n",
       " -0.016453374244968486,\n",
       " -0.006670286906410066,\n",
       " 0.006287362918070516,\n",
       " 0.01902266972149442,\n",
       " -0.001990277794003329,\n",
       " -0.009369282090501321,\n",
       " -0.020084975370023284,\n",
       " 0.011358016217330869,\n",
       " 0.00035435898608226867,\n",
       " -0.009245758914276283,\n",
       " 0.019924393005756547,\n",
       " 0.0021693871911538268,\n",
       " 0.001098590092600617,\n",
       " 0.0027623016035307787,\n",
       " 0.027891680713110146,\n",
       " 0.01086392071846298,\n",
       " -0.001395047298789093,\n",
       " 0.004934777060354747,\n",
       " -0.0035760149041293393,\n",
       " 0.0004060845838817449,\n",
       " -0.020961994391569434,\n",
       " -0.0286822338838278,\n",
       " -0.01644102118228792,\n",
       " -0.016403963856891378,\n",
       " 0.012438849597235428,\n",
       " 0.003007805220129653,\n",
       " -0.0005724557582578255,\n",
       " 0.017552737218893895,\n",
       " 0.02974453766971151,\n",
       " -0.005981641380532904,\n",
       " 0.031498577575448966,\n",
       " 0.003798357692355374,\n",
       " -0.0016583073952533807,\n",
       " 0.0012692073412348367,\n",
       " -0.023605404518888453,\n",
       " 0.005645039048939033,\n",
       " -0.009035768024577591,\n",
       " 0.02576707127869757,\n",
       " -0.011586534838405252,\n",
       " -8.69974468458921e-05,\n",
       " -0.024865347994435443,\n",
       " -0.004690817576590944,\n",
       " -0.03779829309053876,\n",
       " -0.0013201609308244385,\n",
       " 0.026854081189942414,\n",
       " 0.007547305927956217,\n",
       " 0.010573639577953497,\n",
       " 0.017589792681645282,\n",
       " 0.014563459962970579,\n",
       " 0.019825574092247483,\n",
       " 0.009684268425049358,\n",
       " -0.02501357543337646,\n",
       " 0.013167640248517984,\n",
       " 0.008831953666219184,\n",
       " 0.004517884012288796,\n",
       " -0.01610750711636419,\n",
       " -0.6620877412402632,\n",
       " -0.00010538126705534161,\n",
       " 0.014872268834855755,\n",
       " -0.0021832836881775304,\n",
       " 0.01709569811409997,\n",
       " 0.027224652581262686,\n",
       " 0.016663365134667176,\n",
       " 0.03802063331762771,\n",
       " -0.03760065526352064,\n",
       " -0.03794652239212493,\n",
       " -0.01109244027085994,\n",
       " 0.00857255425108854,\n",
       " -0.022172527479039316,\n",
       " 0.0021693871911538268,\n",
       " -0.012932945096103318,\n",
       " -0.007047034363409333,\n",
       " 0.026631737237563156,\n",
       " 0.012821774051236266,\n",
       " -0.008689901827295874,\n",
       " 0.004091727098534998,\n",
       " -0.011067735076821386,\n",
       " -0.0053825509024769585,\n",
       " -0.007547305927956217,\n",
       " 0.012932945096103318,\n",
       " -0.0019439562536729725,\n",
       " -0.004857574609552808,\n",
       " 0.0009897346649095611,\n",
       " -0.01072186887953967,\n",
       " -0.02286426173624791,\n",
       " 0.011308606760576337,\n",
       " -0.021246098069416054,\n",
       " 0.007003800972333796,\n",
       " 0.0028935456767618163,\n",
       " -0.022283699455228945,\n",
       " 0.04881661777928304,\n",
       " 0.00024202950689486345,\n",
       " 0.007800529743069156,\n",
       " 0.011030677751424843,\n",
       " -0.012080630337273142,\n",
       " 0.018862089219872837,\n",
       " 0.0006573784075738288,\n",
       " -0.002552311179493377,\n",
       " 0.036167778223671496,\n",
       " -0.017466269505420243,\n",
       " 0.009393987284539876,\n",
       " 0.009949844371520284,\n",
       " 0.007646125307126568,\n",
       " -0.013155288117159996,\n",
       " -0.003542045844402938,\n",
       " -0.007522601199578952,\n",
       " -0.0026665707228612136,\n",
       " -0.010474820664444435,\n",
       " -0.0032702933665917275,\n",
       " 0.008479910937597182,\n",
       " 0.00235004095397004,\n",
       " -0.0005191860858309396,\n",
       " 0.04056522639408282,\n",
       " -0.0018621217536117886,\n",
       " 0.012031220880518612,\n",
       " -0.0034308743338745985,\n",
       " -0.006602348786957263,\n",
       " 0.0046939053765997964,\n",
       " -0.023333652041077242,\n",
       " -0.005045948570883087,\n",
       " -0.043332159697626875,\n",
       " 0.01588516502663009,\n",
       " -0.009912787046123741,\n",
       " 0.007047034363409333,\n",
       " 0.0055246032070615575,\n",
       " -0.010295711500124581,\n",
       " -0.0038014459580255158,\n",
       " 0.006098988956740238,\n",
       " -0.006126781950787645,\n",
       " -0.0007990447953649827,\n",
       " -0.010845392055764708,\n",
       " 0.017515679893497352,\n",
       " 0.05617863708025654,\n",
       " -0.0036192482952048764,\n",
       " 0.021987242714701757,\n",
       " -0.007442310948768161,\n",
       " 0.0022095325493898667,\n",
       " 0.0014830579809445932,\n",
       " -0.0168610029616853,\n",
       " 0.011796525728103944,\n",
       " 0.014316411747875346,\n",
       " -0.03624189287446458,\n",
       " -0.024815937606358335,\n",
       " -0.0019084431775268228,\n",
       " 0.0032826457307803605,\n",
       " 0.017120402376815946,\n",
       " 0.024309489976132456,\n",
       " 0.03740301743650251,\n",
       " 0.010598344771992051,\n",
       " -0.025865890192206635,\n",
       " 0.005780915287844638,\n",
       " 0.010406882544991633,\n",
       " -0.015329307008327102,\n",
       " 0.014810507246743236,\n",
       " -0.009634858968294826,\n",
       " -0.02056671687488803,\n",
       " 0.01878797456907975,\n",
       " 0.01319234544255654,\n",
       " 0.029868062708581705,\n",
       " -0.0037180672087139387,\n",
       " 0.013587621096592789,\n",
       " -0.008288448710596762,\n",
       " -0.006268834255372245,\n",
       " 0.03340084492012744,\n",
       " -0.0017972717834138054,\n",
       " -0.013402335400932651,\n",
       " 0.007226143993390476,\n",
       " -0.010598344771992051,\n",
       " -0.00900488723052133,\n",
       " 0.01086392071846298,\n",
       " 0.005706801102712842,\n",
       " -0.019813222892212073,\n",
       " -0.0022573981061399717,\n",
       " 0.021653726786132872,\n",
       " 0.023173069676810504,\n",
       " 0.0004304033372579039,\n",
       " 0.022296050655264354,\n",
       " -0.012105335531311698,\n",
       " 0.021196689543984102,\n",
       " 0.0001297965214577349,\n",
       " 0.007541129862277223,\n",
       " 0.004067021904496443,\n",
       " -0.02468006136745273,\n",
       " 0.004378919973374338,\n",
       " -0.041059322824273284,\n",
       " -0.0005601033940691927,\n",
       " 0.037328902785709425,\n",
       " 0.013538211639838257,\n",
       " 0.014007601944667592,\n",
       " -0.02143138469639877,\n",
       " 0.01994909913111768,\n",
       " -0.0038601197461291827,\n",
       " 0.014526402637574036,\n",
       " 0.003060302942554326,\n",
       " 0.020702593113793636,\n",
       " -0.015465183247232707,\n",
       " -0.019640289327909927,\n",
       " -0.024371251564244977,\n",
       " 0.001615074120593166,\n",
       " -0.01867680259289012,\n",
       " -0.003105080233634289,\n",
       " -0.020517308349456077,\n",
       " -0.019640289327909927,\n",
       " -0.005734593631098959,\n",
       " -0.027076423279676513,\n",
       " 0.009665739762351086,\n",
       " 0.0022836467345216634,\n",
       " 0.004196722077723054,\n",
       " 0.0006442539769676606,\n",
       " 0.03409257545204572,\n",
       " -0.003047950578365693,\n",
       " -0.0027484053393377196,\n",
       " -0.01677453524821165,\n",
       " -0.01577399305044046,\n",
       " -0.00793640598197476,\n",
       " -0.011370368348688856,\n",
       " 0.00700997750367408,\n",
       " 0.035179585363290564,\n",
       " 0.0103574730882371,\n",
       " -0.005527691472731699,\n",
       " -0.0056913607056847115,\n",
       " -0.014934031354290852,\n",
       " -0.0074361344174278775,\n",
       " 0.022938374524395837,\n",
       " 0.0020242468537297305,\n",
       " -0.03856413827325013,\n",
       " -5.254587835034056e-05,\n",
       " -0.022382518368738006,\n",
       " -0.007534953796598229,\n",
       " -0.010740396610915361,\n",
       " 0.005348581842750557,\n",
       " -0.01104303081410541,\n",
       " 0.004879191072259933,\n",
       " -0.011203611315726992,\n",
       " 0.018380345852362936,\n",
       " -0.011506244587594461,\n",
       " -0.004786548224429864,\n",
       " -0.024272432650735913,\n",
       " -0.0019346920387391592,\n",
       " -0.006123693685117504,\n",
       " 0.05005185699211405,\n",
       " -0.0004871471048368851,\n",
       " 0.013352925944178121,\n",
       " 0.03797122479219575,\n",
       " -0.010826863393066436,\n",
       " 0.01881267883179573,\n",
       " 0.029645718756202446,\n",
       " 0.019417945375530668,\n",
       " -0.027521109321789874,\n",
       " 0.01110479240221793,\n",
       " -0.0023083516957295735,\n",
       " -0.005873558135674706,\n",
       " 0.00411025529557198,\n",
       " 0.010795982599010176,\n",
       " 0.007380548894994352,\n",
       " 0.012512964248028512,\n",
       " 0.014551106900290014,\n",
       " 0.004264660197175856,\n",
       " 0.03448785483137228,\n",
       " -0.034166690102838806,\n",
       " -0.0057037128370427,\n",
       " -0.013451744857687183,\n",
       " 0.0013317413450108582,\n",
       " -0.022011946977417735,\n",
       " 0.02138197430832166,\n",
       " 0.0235189368054148,\n",
       " 0.003962026925308387,\n",
       " -0.004842134212524679,\n",
       " 0.02579177554141355,\n",
       " 0.009505158329406927,\n",
       " 0.00030707250824914587,\n",
       " 0.007639948775786286,\n",
       " 0.003038686247016557,\n",
       " -0.02285190867356734,\n",
       " -0.008838130197559467,\n",
       " 0.006960568046919548,\n",
       " -0.00125453889420892,\n",
       " 0.026804670801865303,\n",
       " -0.009653387630993097,\n",
       " -0.011456835130839931,\n",
       " -0.019257364873909086,\n",
       " 0.010320415762840558,\n",
       " 0.03431491940442498,\n",
       " 0.022938374524395837,\n",
       " -0.0057747392221656445,\n",
       " 0.0027252445109648806,\n",
       " -0.027175242193185577,\n",
       " 0.026014119493792804,\n",
       " -0.008504616131635737,\n",
       " -0.014254650159762827,\n",
       " 0.014316411747875346,\n",
       " -0.005635774717589897,\n",
       " 0.013970545550593627,\n",
       " 0.013427040594971207,\n",
       " 0.02579177554141355,\n",
       " -0.011876815978914735,\n",
       " -0.017219221290325007,\n",
       " 0.026137642670017846,\n",
       " 0.018195061088025377,\n",
       " -0.028015203889335184,\n",
       " 0.015267545420214582,\n",
       " 0.019072080109571527,\n",
       " 0.022938374524395837,\n",
       " 0.001990277794003329,\n",
       " 0.012500611185347947,\n",
       " 0.014427583724064974,\n",
       " 0.01583575463855298,\n",
       " -0.01950441308900432,\n",
       " -0.015242840226176028,\n",
       " -0.005376374836797964,\n",
       " 0.019541470414400863,\n",
       " -0.03601954892208532,\n",
       " -0.006713520297485604,\n",
       " 0.006466472548051659,\n",
       " -0.015242840226176028,\n",
       " -0.005339317511401421,\n",
       " -0.0010584448507798992,\n",
       " 0.02269132817194576,\n",
       " 0.010968916163312324,\n",
       " 0.011370368348688856,\n",
       " 0.01435346907327189,\n",
       " 0.0008291536976266904,\n",
       " -0.005746946228118237,\n",
       " -0.030139815186392915,\n",
       " -0.01054893531523752,\n",
       " -0.017330393266514636,\n",
       " -0.02269132817194576,\n",
       " -0.02907750953786405,\n",
       " 0.028212843578998465,\n",
       " 0.014612869419725111,\n",
       " 0.00799816757008728,\n",
       " 0.004882279337930074,\n",
       " -0.010437763339047891,\n",
       " -0.014378174267310443,\n",
       " -0.00896782990512479,\n",
       " -0.009918963577464026,\n",
       " -0.006392358362919862,\n",
       " -0.024568889391263102,\n",
       " 0.01910913743496807,\n",
       " 0.01561341254881888,\n",
       " 0.002777742233389553,\n",
       " -0.007423782286069889,\n",
       " -0.03379612057416369,\n",
       " 0.010623049034708027,\n",
       " -0.014192888571650308,\n",
       " 0.0008137132423908994,\n",
       " 0.008770192078106665,\n",
       " 0.01676218404817624,\n",
       " 0.006478824679409647,\n",
       " -0.02065318458836168,\n",
       " 0.004641408119836413,\n",
       " -0.004277012794195134,\n",
       " 0.021196689543984102,\n",
       " -0.00038195884710996974,\n",
       " -0.00863431583920106,\n",
       " 0.011117144533575919,\n",
       " -0.00487610327225108,\n",
       " -0.015366364333723645,\n",
       " 0.007905525187918502,\n",
       " -0.02170313717420998,\n",
       " -0.02061612726296514,\n",
       " 0.026631737237563156,\n",
       " -0.009505158329406927,\n",
       " -0.010215420317991213,\n",
       " 0.018664451392854713,\n",
       " -0.014637573682441087,\n",
       " 0.007769648949012897,\n",
       " -0.002902810008110952,\n",
       " -0.00431715791960053,\n",
       " -0.0037304195729025713,\n",
       " -0.0035667505727802035,\n",
       " 0.0022064445165503694,\n",
       " -0.009326049165087074,\n",
       " -0.005450489021929761,\n",
       " 0.030559795103145142,\n",
       " -0.03873707370019743,\n",
       " -0.018948555070701333,\n",
       " 0.02191312806390867,\n",
       " -0.021196689543984102,\n",
       " -0.017503326830816787,\n",
       " 0.025915298717638587,\n",
       " 0.04461680743588984,\n",
       " -0.00736202023229608,\n",
       " 0.025235919385755718,\n",
       " -0.0006423239273391444,\n",
       " 0.003285733996450502,\n",
       " -0.016527488895761572,\n",
       " -0.012358559346424637,\n",
       " -0.02172784143692596,\n",
       " -0.008059930089522379,\n",
       " -0.016836298698969326,\n",
       " -0.012191802313462771,\n",
       " -0.0014359644906120237,\n",
       " 0.003887912507345945,\n",
       " 0.012562373704783044,\n",
       " 0.014279354422478803,\n",
       " -0.0009372370589002107,\n",
       " -0.025544727326318312,\n",
       " 0.009980725165576545,\n",
       " 0.005629598651910903,\n",
       " -0.006769105819919128,\n",
       " 0.01500814507376136,\n",
       " 0.01061069690335004,\n",
       " 0.007985815438729293,\n",
       " 0.03172091780253791,\n",
       " 0.01406936446410269,\n",
       " -0.015106964918593,\n",
       " 0.008201981928445689,\n",
       " 0.008449030143540922,\n",
       " -0.005441224690580625,\n",
       " -0.0196649935906259,\n",
       " -0.009813968132614679,\n",
       " 0.006009434374580311,\n",
       " -0.016119860179044758,\n",
       " 0.013328221681462145,\n",
       " 0.005246674663571353,\n",
       " -0.0068432200050509255,\n",
       " 0.025544727326318312,\n",
       " 0.008998710699181048,\n",
       " 0.00020400733130704584,\n",
       " 0.01628044068066634,\n",
       " -0.0058797342013537,\n",
       " -0.003046406445530622,\n",
       " -0.01483521244078179,\n",
       " 0.003779829262487747,\n",
       " 0.0015749288787724484,\n",
       " -0.02791638497582612,\n",
       " -0.009492806198048938,\n",
       " -0.02445771927771863,\n",
       " -0.002800902828931748,\n",
       " 0.02957160410540936,\n",
       " 0.0017061729520034857,\n",
       " -0.0256188419771114,\n",
       " 0.001290824036772605,\n",
       " 0.0046228794571381415,\n",
       " 0.012148568456725945,\n",
       " 0.011808877859461933,\n",
       " -0.02324718432760359,\n",
       " -0.005478282015977168,\n",
       " 0.005932231923778373,\n",
       " -0.0006539042833179028,\n",
       " -0.012136216325367957,\n",
       " -0.02566825236518851,\n",
       " -0.0038539434476195437,\n",
       " 0.008974006436465072,\n",
       " -0.031696215402467094,\n",
       " 0.002164755025479259,\n",
       " 0.008331682567333588,\n",
       " -0.019479708826288345,\n",
       " 0.0009341489678530526,\n",
       " -0.020640831525681115,\n",
       " -0.003288822029289999,\n",
       " 0.0063800057659005845,\n",
       " 0.002104537337371166,\n",
       " 0.03881118835099052,\n",
       " 0.024037737498321245,\n",
       " 0.023061899563266035,\n",
       " -0.011957107161048103,\n",
       " -0.0028132551931203805,\n",
       " 0.032807927713782756,\n",
       " -0.00015508031420006732,\n",
       " -0.018849736157192272,\n",
       " 0.024383604626925542,\n",
       " -0.0020257907537341567,\n",
       " -0.0053115245173540136,\n",
       " -0.012735307269085193,\n",
       " 0.021851366475796153,\n",
       " -0.0031900028829502922,\n",
       " -0.0393299871812518,\n",
       " 0.02034437478515393,\n",
       " 0.010425411207689902,\n",
       " 0.03893471152721555,\n",
       " 0.023877156996699664,\n",
       " -0.008881363122973714,\n",
       " -0.009739854413144173,\n",
       " 0.017330393266514636,\n",
       " 0.021246098069416054,\n",
       " -0.011117144533575919,\n",
       " 0.0031143445649834244,\n",
       " -0.004663024582543537,\n",
       " 0.019973803393833655,\n",
       " -0.0015270633220223434,\n",
       " -0.03357377662178443,\n",
       " -0.008449030143540922,\n",
       " -0.0018173443461165031,\n",
       " -0.010480997195784717,\n",
       " -0.027990499626619206,\n",
       " 0.032659702137486896,\n",
       " -0.015675174136931397,\n",
       " -0.006911158124503728,\n",
       " 0.02808931854012827,\n",
       " -0.011963282761065808,\n",
       " 0.022913670261679862,\n",
       " 0.0036377767250725035,\n",
       " 0.01109244027085994,\n",
       " 0.010221596849331495,\n",
       " 0.004033052844770042,\n",
       " 0.019479708826288345,\n",
       " -0.022567803133075565,\n",
       " -0.016144564441760732,\n",
       " 0.012278269095613845,\n",
       " -0.04056522639408282,\n",
       " 0.022123118953607364,\n",
       " -0.0015919134086356491,\n",
       " -0.006583820124258992,\n",
       " -0.012710602075046637,\n",
       " -0.02296308064975697,\n",
       " -0.03139975679929475,\n",
       " -0.0021740193568283946,\n",
       " -0.007448487014447155,\n",
       " -0.004882279337930074,\n",
       " 0.0008438221446526071,\n",
       " -0.021233746869380645,\n",
       " -0.009696620556407347,\n",
       " -0.024754176018245814,\n",
       " -0.003928057865581985,\n",
       " -0.020270260134360844,\n",
       " 0.03547604396646291,\n",
       " -0.027792861799601082,\n",
       " -0.020356727847834495,\n",
       " -0.03522899761401283,\n",
       " -0.009931315708822013,\n",
       " -0.023889508196735073,\n",
       " -0.004727874436326197,\n",
       " -0.05252233169248577,\n",
       " -0.04478973913754684,\n",
       " -0.0004763387570680009,\n",
       " -0.004298629256902258,\n",
       " -0.011987987955104364,\n",
       " 0.027298767232055772,\n",
       " 0.008702253958653861,\n",
       " 0.026681147625640264,\n",
       " -0.02187607073851213,\n",
       " -0.018170354962664243,\n",
       " -0.009746030013161877,\n",
       " 0.004033052844770042,\n",
       " 0.004415976833109592,\n",
       " 0.006750577157220857,\n",
       " 0.009962196502878273,\n",
       " 0.01881267883179573,\n",
       " 0.03621718674910345,\n",
       " -0.00040183845141594473,\n",
       " 0.004814341218477272,\n",
       " -0.014415230661384408,\n",
       " -0.023704223432397517,\n",
       " 0.007825234937107711,\n",
       " -0.017379803654591748,\n",
       " -0.010666282891444855,\n",
       " -0.010740396610915361,\n",
       " 0.0068308678736929375,\n",
       " 0.021085517567794473,\n",
       " 0.02308660382598201,\n",
       " -0.004168929083675647,\n",
       " -0.03209149105650334,\n",
       " -0.020369079047869904,\n",
       " 0.00670734376614532,\n",
       " -0.0032826457307803605,\n",
       " -0.0030989041679552946,\n",
       " -0.015786346113121026,\n",
       " -0.007812881874427144,\n",
       " -0.008603435045144799,\n",
       " -0.009986901696916827,\n",
       " 0.017219221290325007,\n",
       " -0.0013039484673787734,\n",
       " -0.014649926745121654,\n",
       " -0.01236473587776492,\n",
       " 0.022444279956850527,\n",
       " 0.038490027347747355,\n",
       " 0.03527840613944478,\n",
       " 0.022197231741755294,\n",
       " 0.024000680172924702,\n",
       " -0.02092493706617289,\n",
       " 0.02566825236518851,\n",
       " 0.0010360560888245953,\n",
       " -0.008424324949502368,\n",
       " -0.0035821909698083333,\n",
       " -0.012451201728593415,\n",
       " -0.0008862834693106088,\n",
       " -0.012290621226971834,\n",
       " 0.02197488965202119,\n",
       " -0.01505755453051589,\n",
       " 0.028830461322768817,\n",
       " -0.002360849185323602,\n",
       " 0.028015203889335184,\n",
       " 0.004307893588251394,\n",
       " 0.007405253623371618,\n",
       " -0.00530534845167502,\n",
       " -0.006207072667259725,\n",
       " -0.005496810678675439,\n",
       " 0.007275553450145007,\n",
       " -0.006160751010514047,\n",
       " -0.030584501228506273,\n",
       " -0.017379803654591748,\n",
       " -0.019035022784174987,\n",
       " -0.0019702049984699865,\n",
       " 2.0132936780239395e-05,\n",
       " -0.02369187036971695,\n",
       " 0.008368739892730131,\n",
       " -0.016626307809270633,\n",
       " -0.03831709192080005,\n",
       " -0.011889169041595302,\n",
       " 0.014686983139195618,\n",
       " 0.02235781410602203,\n",
       " 0.0017972717834138054,\n",
       " 0.016453374244968486,\n",
       " 0.04261572304034746,\n",
       " -0.008498439600295454,\n",
       " -0.007528777265257945,\n",
       " 0.022543098870359587,\n",
       " -0.0016984526370740986,\n",
       " -0.004703169707948932,\n",
       " 0.025371795624661322,\n",
       " -0.007522601199578952,\n",
       " -0.0256188419771114,\n",
       " -0.022011946977417735,\n",
       " 0.02065318458836168,\n",
       " -0.008770192078106665,\n",
       " -0.015415773790478175,\n",
       " -0.0027406849079930104,\n",
       " 0.00037867773945842766,\n",
       " 0.016453374244968486,\n",
       " 0.024185966799907418,\n",
       " -0.01616926870447671,\n",
       " 0.006886453396126462,\n",
       " -0.014588164225686555,\n",
       " 0.014983440811045384,\n",
       " -0.014563459962970579,\n",
       " -0.005848853407297441,\n",
       " -0.0331043863169551,\n",
       " 0.008992535099163344,\n",
       " -0.00543196035923149,\n",
       " 0.023889508196735073,\n",
       " -0.0065344106675044615,\n",
       " 0.0075781871876737655,\n",
       " 0.007343491569597809,\n",
       " 0.007831410537125416,\n",
       " -0.0005087637712708231,\n",
       " -0.009622506836936839,\n",
       " -0.013056469203650934,\n",
       " 0.005635774717589897,\n",
       " -0.009313697033729085,\n",
       " 0.0029506755648610566,\n",
       " -0.010598344771992051,\n",
       " 0.021085517567794473,\n",
       " 0.022629566583833242,\n",
       " 0.01478580205270468,\n",
       " 0.002147770495616058,\n",
       " 0.01929442219930563,\n",
       " 0.007473191742824421,\n",
       " 0.008183454197069995,\n",
       " -0.008325506035993305,\n",
       " 0.023580698393527322,\n",
       " 0.005101534093316612,\n",
       " 0.006917334655844011,\n",
       " 0.009307520502388802,\n",
       " 0.01891149774530479,\n",
       " 0.0007426870318909386,\n",
       " -0.010067191947727618,\n",
       " -0.015032850267799915,\n",
       " 0.0024751087286914385,\n",
       " 0.03070802440473131,\n",
       " 0.0013865550338574926,\n",
       " 0.0056326864519197556,\n",
       " 0.005197265206816822,\n",
       " -0.01066010636010457,\n",
       " -0.010561287446595508,\n",
       " -0.026137642670017846,\n",
       " -0.01091333017521751,\n",
       " 0.004511707946609801,\n",
       " 0.006670286906410066,\n",
       " -0.04555558804554851,\n",
       " -0.01754038415621333,\n",
       " 0.01561341254881888,\n",
       " 0.0011912329404306851,\n",
       " 0.00428627712554427,\n",
       " -0.0028873696110828222,\n",
       " 0.019825574092247483,\n",
       " 0.011222139978425263,\n",
       " -0.011395073542727412,\n",
       " 0.008331682567333588,\n",
       " -0.003236324306865326,\n",
       " -0.0031220647634974895,\n",
       " 0.0011827406754990849,\n",
       " 0.011475363793538203,\n",
       " -0.0005535411787661086,\n",
       " -0.013538211639838257,\n",
       " 0.0012861918710980373,\n",
       " -0.023593051456207888,\n",
       " -0.027570519709866983,\n",
       " -0.005413431696533218,\n",
       " 0.00810933954627691,\n",
       " -0.002700539782587615,\n",
       " -0.040589932519443955,\n",
       " -0.001957852634281354,\n",
       " 0.033030271666162014,\n",
       " 0.007757296351993619,\n",
       " -0.00928899183969053,\n",
       " -0.004205986409072189,\n",
       " -0.018429756240440045,\n",
       " 0.013612326290631343,\n",
       " -0.004684641045250661,\n",
       " 0.02061612726296514,\n",
       " 0.013921136093839097,\n",
       " -0.025544727326318312,\n",
       " 0.004212162474751184,\n",
       " 0.0015610323817487448,\n",
       " -0.009029592424559887,\n",
       " -0.012197977913480476,\n",
       " -0.011005973488708867,\n",
       " 0.005740770162439243,\n",
       " 0.011796525728103944,\n",
       " 0.005663567711637304,\n",
       " -0.0055956295921845015,\n",
       " -0.009091354012672406,\n",
       " -0.025062985821453568,\n",
       " 0.011277725966520078,\n",
       " -0.005765474890816509,\n",
       " -0.00111943472172085,\n",
       " 0.012340030683726366,\n",
       " -0.007022329635032068,\n",
       " 0.0013603061726451563,\n",
       " 0.004437593761478005,\n",
       " -0.0012205698344825186,\n",
       " 0.005694448505693564,\n",
       " 0.008659020101917035,\n",
       " -0.03886059687642247,\n",
       " -0.014378174267310443,\n",
       " -0.0327585191883508,\n",
       " -0.00041534888612705005,\n",
       " -0.02395127164749275,\n",
       " -0.005030508173854957,\n",
       " 0.02384009967130312,\n",
       " 0.037724178439745674,\n",
       " -0.01658925048387409,\n",
       " -0.02044319369866299,\n",
       " 0.00211071340305016,\n",
       " -0.027397586145564833,\n",
       " -0.0036192482952048764,\n",
       " -0.0036563053877707746,\n",
       " 0.024815937606358335,\n",
       " -0.00876401554676638,\n",
       " -0.012451201728593415,\n",
       " -0.008306977373295034,\n",
       " 0.01814565069994827,\n",
       " 0.005780915287844638,\n",
       " 0.004051581507468313,\n",
       " -0.01346409792036775,\n",
       " 0.009251934514293987,\n",
       " 0.0023207040599182065,\n",
       " -0.014328763879233333,\n",
       " 0.014884621897536322,\n",
       " -0.028929280236277877,\n",
       " -0.015946926614742608,\n",
       " -0.008164925534371724,\n",
       " -0.00904812015593558,\n",
       " 0.012846478313952242,\n",
       " -0.0030325099485069185,\n",
       " 0.025137098609601498,\n",
       " -0.012469730391291687,\n",
       " -0.011796525728103944,\n",
       " -0.02402538443564068,\n",
       " -0.001201269221782034,\n",
       " 0.009116058275388382,\n",
       " 0.007331139438239821,\n",
       " 0.019936746068437112,\n",
       " 0.001320932997241974,\n",
       " 0.009634858968294826,\n",
       " 0.016478078507684464,\n",
       " -0.007683182166861822,\n",
       " 0.00010731133123577312,\n",
       " -0.013167640248517984,\n",
       " 0.02616234693273382,\n",
       " -0.004363479110684919,\n",
       " 0.016181621767157275,\n",
       " 0.0020381431179227892,\n",
       " 0.013105878660405464,\n",
       " 0.022456633019531092,\n",
       " -0.02653291832405409,\n",
       " 0.02015909002081637,\n",
       " -0.012068278205915155,\n",
       " 0.0023098955957339996,\n",
       " 0.019257364873909086,\n",
       " 0.01226591603293328,\n",
       " 0.001645955031064748,\n",
       " -0.018392698915043502,\n",
       " 0.003891000773016087,\n",
       " -0.0007724099591515398,\n",
       " 0.019763812504134965,\n",
       " 0.025544727326318312,\n",
       " -0.025186508997678606,\n",
       " -0.006639406112353806,\n",
       " -0.023642461844284996,\n",
       " -0.0016104419549185982,\n",
       " -0.010203068186633224,\n",
       " -0.01698452613791034,\n",
       " -0.02719994831854671,\n",
       " -0.009838673326653235,\n",
       " -0.02453183206586656,\n",
       " 0.018615041004777604,\n",
       " 0.00651588200480619,\n",
       " -0.011703883345935164,\n",
       " 0.0006276554803132276,\n",
       " -0.023061899563266035,\n",
       " 0.010221596849331495,\n",
       " 0.0037242435072235773,\n",
       " -0.015848107701233547,\n",
       " 0.03952762500826993,\n",
       " -0.01660160354655466,\n",
       " -0.020134383895455236,\n",
       " 0.04814958964743558,\n",
       " -0.003850855414780047,\n",
       " -0.001806535998347619,\n",
       " 0.021900775001228105,\n",
       " 0.019343832587382738,\n",
       " 0.00785611573116397,\n",
       " 0.010462468533086446,\n",
       " 0.23993268707845394,\n",
       " 0.005796355684872768,\n",
       " -0.003613071996695238,\n",
       " 0.04632143695355019,\n",
       " 0.02374128075779406,\n",
       " 0.00900488723052133,\n",
       " -0.003943498262610115,\n",
       " -0.0008677549230276596,\n",
       " -0.006037227368627719,\n",
       " -0.003962026925308387,\n",
       " -0.011957107161048103,\n",
       " -0.0248282906690389,\n",
       " -0.017886251284817623,\n",
       " 0.005496810678675439,\n",
       " 0.0174292121800237,\n",
       " 0.0031483136247098258,\n",
       " -0.017120402376815946,\n",
       " -0.01609515591632878,\n",
       " -0.007164381939616667,\n",
       " -0.0379218162667638,\n",
       " 0.01741686097998829,\n",
       " -0.017219221290325007,\n",
       " -0.0044777388868834,\n",
       " -0.0008191174162753415,\n",
       " 0.0340678730519749,\n",
       " 0.023123661151378552,\n",
       " -0.0007311066759121801,\n",
       " -0.00989425838342547,\n",
       " 0.013661735747385875,\n",
       " -0.005805620016221904,\n",
       " -0.013711145204140405,\n",
       " -0.01649043157036503,\n",
       " 0.007071739091786599,\n",
       " 0.02286426173624791,\n",
       " 1.5536981727877016e-05,\n",
       " 0.009789263869898703,\n",
       " 0.026681147625640264,\n",
       " 0.005966200983504775,\n",
       " 0.024284785713416482,\n",
       " 0.00169690862065435,\n",
       " 0.021011402917001386,\n",
       " -0.008158749003031441,\n",
       " 0.008640492370541342,\n",
       " -0.01996145033115309,\n",
       " 0.0075658345906544884,\n",
       " 0.017552737218893895,\n",
       " ...]"
      ]
     },
     "execution_count": 95,
     "metadata": {},
     "output_type": "execute_result"
    }
   ],
   "source": [
    "result = embeddings.embed_query(\" Olá! Tudo bem?\")\n",
    "result"
   ]
  },
  {
   "cell_type": "code",
   "execution_count": 96,
   "metadata": {},
   "outputs": [
    {
     "name": "stdout",
     "output_type": "stream",
     "text": [
      "Requirement already satisfied: wikipedia in /Users/lucastavrs2/miniconda/lib/python3.10/site-packages (1.4.0)\n",
      "Requirement already satisfied: requests<3.0.0,>=2.0.0 in /Users/lucastavrs2/miniconda/lib/python3.10/site-packages (from wikipedia) (2.28.1)\n",
      "Requirement already satisfied: beautifulsoup4 in /Users/lucastavrs2/miniconda/lib/python3.10/site-packages (from wikipedia) (4.12.3)\n",
      "Requirement already satisfied: certifi>=2017.4.17 in /Users/lucastavrs2/miniconda/lib/python3.10/site-packages (from requests<3.0.0,>=2.0.0->wikipedia) (2023.7.22)\n",
      "Requirement already satisfied: idna<4,>=2.5 in /Users/lucastavrs2/miniconda/lib/python3.10/site-packages (from requests<3.0.0,>=2.0.0->wikipedia) (3.4)\n",
      "Requirement already satisfied: urllib3<1.27,>=1.21.1 in /Users/lucastavrs2/miniconda/lib/python3.10/site-packages (from requests<3.0.0,>=2.0.0->wikipedia) (1.26.15)\n",
      "Requirement already satisfied: charset-normalizer<3,>=2 in /Users/lucastavrs2/miniconda/lib/python3.10/site-packages (from requests<3.0.0,>=2.0.0->wikipedia) (2.0.4)\n",
      "Requirement already satisfied: soupsieve>1.2 in /Users/lucastavrs2/miniconda/lib/python3.10/site-packages (from beautifulsoup4->wikipedia) (2.5)\n",
      "Note: you may need to restart the kernel to use updated packages.\n",
      "Requirement already satisfied: tiktoken in /Users/lucastavrs2/miniconda/lib/python3.10/site-packages (0.3.1)\n",
      "Requirement already satisfied: requests>=2.26.0 in /Users/lucastavrs2/miniconda/lib/python3.10/site-packages (from tiktoken) (2.28.1)\n",
      "Requirement already satisfied: regex>=2022.1.18 in /Users/lucastavrs2/miniconda/lib/python3.10/site-packages (from tiktoken) (2023.6.3)\n",
      "Requirement already satisfied: charset-normalizer<3,>=2 in /Users/lucastavrs2/miniconda/lib/python3.10/site-packages (from requests>=2.26.0->tiktoken) (2.0.4)\n",
      "Requirement already satisfied: urllib3<1.27,>=1.21.1 in /Users/lucastavrs2/miniconda/lib/python3.10/site-packages (from requests>=2.26.0->tiktoken) (1.26.15)\n",
      "Requirement already satisfied: idna<4,>=2.5 in /Users/lucastavrs2/miniconda/lib/python3.10/site-packages (from requests>=2.26.0->tiktoken) (3.4)\n",
      "Requirement already satisfied: certifi>=2017.4.17 in /Users/lucastavrs2/miniconda/lib/python3.10/site-packages (from requests>=2.26.0->tiktoken) (2023.7.22)\n",
      "Note: you may need to restart the kernel to use updated packages.\n"
     ]
    }
   ],
   "source": [
    "%pip install wikipedia\n",
    "%pip install tiktoken"
   ]
  },
  {
   "cell_type": "code",
   "execution_count": 97,
   "metadata": {},
   "outputs": [
    {
     "name": "stdout",
     "output_type": "stream",
     "text": [
      "Requirement already satisfied: langchain[docarray] in /Users/lucastavrs2/miniconda/lib/python3.10/site-packages (0.1.11)\n",
      "Requirement already satisfied: dataclasses-json<0.7,>=0.5.7 in /Users/lucastavrs2/miniconda/lib/python3.10/site-packages (from langchain[docarray]) (0.6.4)\n",
      "Requirement already satisfied: requests<3,>=2 in /Users/lucastavrs2/miniconda/lib/python3.10/site-packages (from langchain[docarray]) (2.28.1)\n",
      "Requirement already satisfied: langchain-community<0.1,>=0.0.25 in /Users/lucastavrs2/miniconda/lib/python3.10/site-packages (from langchain[docarray]) (0.0.25)\n",
      "Requirement already satisfied: PyYAML>=5.3 in /Users/lucastavrs2/miniconda/lib/python3.10/site-packages (from langchain[docarray]) (6.0)\n",
      "Requirement already satisfied: tenacity<9.0.0,>=8.1.0 in /Users/lucastavrs2/miniconda/lib/python3.10/site-packages (from langchain[docarray]) (8.2.3)\n",
      "Requirement already satisfied: jsonpatch<2.0,>=1.33 in /Users/lucastavrs2/miniconda/lib/python3.10/site-packages (from langchain[docarray]) (1.33)\n",
      "Requirement already satisfied: langsmith<0.2.0,>=0.1.17 in /Users/lucastavrs2/miniconda/lib/python3.10/site-packages (from langchain[docarray]) (0.1.20)\n",
      "Requirement already satisfied: langchain-core<0.2,>=0.1.29 in /Users/lucastavrs2/miniconda/lib/python3.10/site-packages (from langchain[docarray]) (0.1.29)\n",
      "Requirement already satisfied: SQLAlchemy<3,>=1.4 in /Users/lucastavrs2/miniconda/lib/python3.10/site-packages (from langchain[docarray]) (2.0.20)\n",
      "Requirement already satisfied: langchain-text-splitters<0.1,>=0.0.1 in /Users/lucastavrs2/miniconda/lib/python3.10/site-packages (from langchain[docarray]) (0.0.1)\n",
      "Requirement already satisfied: async-timeout<5.0.0,>=4.0.0 in /Users/lucastavrs2/miniconda/lib/python3.10/site-packages (from langchain[docarray]) (4.0.2)\n",
      "Requirement already satisfied: aiohttp<4.0.0,>=3.8.3 in /Users/lucastavrs2/miniconda/lib/python3.10/site-packages (from langchain[docarray]) (3.8.4)\n",
      "Requirement already satisfied: pydantic<3,>=1 in /Users/lucastavrs2/miniconda/lib/python3.10/site-packages (from langchain[docarray]) (2.6.3)\n",
      "Requirement already satisfied: numpy<2,>=1 in /Users/lucastavrs2/miniconda/lib/python3.10/site-packages (from langchain[docarray]) (1.24.4)\n",
      "Requirement already satisfied: docarray[hnswlib]<0.33.0,>=0.32.0 in /Users/lucastavrs2/miniconda/lib/python3.10/site-packages (from langchain[docarray]) (0.32.1)\n",
      "Requirement already satisfied: yarl<2.0,>=1.0 in /Users/lucastavrs2/miniconda/lib/python3.10/site-packages (from aiohttp<4.0.0,>=3.8.3->langchain[docarray]) (1.9.2)\n",
      "Requirement already satisfied: aiosignal>=1.1.2 in /Users/lucastavrs2/miniconda/lib/python3.10/site-packages (from aiohttp<4.0.0,>=3.8.3->langchain[docarray]) (1.3.1)\n",
      "Requirement already satisfied: attrs>=17.3.0 in /Users/lucastavrs2/miniconda/lib/python3.10/site-packages (from aiohttp<4.0.0,>=3.8.3->langchain[docarray]) (23.1.0)\n",
      "Requirement already satisfied: multidict<7.0,>=4.5 in /Users/lucastavrs2/miniconda/lib/python3.10/site-packages (from aiohttp<4.0.0,>=3.8.3->langchain[docarray]) (6.0.4)\n",
      "Requirement already satisfied: frozenlist>=1.1.1 in /Users/lucastavrs2/miniconda/lib/python3.10/site-packages (from aiohttp<4.0.0,>=3.8.3->langchain[docarray]) (1.3.3)\n",
      "Requirement already satisfied: charset-normalizer<4.0,>=2.0 in /Users/lucastavrs2/miniconda/lib/python3.10/site-packages (from aiohttp<4.0.0,>=3.8.3->langchain[docarray]) (2.0.4)\n",
      "Requirement already satisfied: typing-inspect<1,>=0.4.0 in /Users/lucastavrs2/miniconda/lib/python3.10/site-packages (from dataclasses-json<0.7,>=0.5.7->langchain[docarray]) (0.9.0)\n",
      "Requirement already satisfied: marshmallow<4.0.0,>=3.18.0 in /Users/lucastavrs2/miniconda/lib/python3.10/site-packages (from dataclasses-json<0.7,>=0.5.7->langchain[docarray]) (3.21.1)\n",
      "Requirement already satisfied: rich>=13.1.0 in /Users/lucastavrs2/miniconda/lib/python3.10/site-packages (from docarray[hnswlib]<0.33.0,>=0.32.0->langchain[docarray]) (13.7.1)\n",
      "Requirement already satisfied: types-requests>=2.28.11.6 in /Users/lucastavrs2/miniconda/lib/python3.10/site-packages (from docarray[hnswlib]<0.33.0,>=0.32.0->langchain[docarray]) (2.31.0.6)\n",
      "Requirement already satisfied: orjson>=3.8.2 in /Users/lucastavrs2/miniconda/lib/python3.10/site-packages (from docarray[hnswlib]<0.33.0,>=0.32.0->langchain[docarray]) (3.9.15)\n",
      "Requirement already satisfied: protobuf>=3.19.0 in /Users/lucastavrs2/miniconda/lib/python3.10/site-packages (from docarray[hnswlib]<0.33.0,>=0.32.0->langchain[docarray]) (4.25.3)\n",
      "Requirement already satisfied: hnswlib>=0.6.2 in /Users/lucastavrs2/miniconda/lib/python3.10/site-packages (from docarray[hnswlib]<0.33.0,>=0.32.0->langchain[docarray]) (0.8.0)\n",
      "Requirement already satisfied: jsonpointer>=1.9 in /Users/lucastavrs2/miniconda/lib/python3.10/site-packages (from jsonpatch<2.0,>=1.33->langchain[docarray]) (2.1)\n",
      "Requirement already satisfied: packaging<24.0,>=23.2 in /Users/lucastavrs2/miniconda/lib/python3.10/site-packages (from langchain-core<0.2,>=0.1.29->langchain[docarray]) (23.2)\n",
      "Requirement already satisfied: anyio<5,>=3 in /Users/lucastavrs2/miniconda/lib/python3.10/site-packages (from langchain-core<0.2,>=0.1.29->langchain[docarray]) (4.3.0)\n",
      "Requirement already satisfied: pydantic-core==2.16.3 in /Users/lucastavrs2/miniconda/lib/python3.10/site-packages (from pydantic<3,>=1->langchain[docarray]) (2.16.3)\n",
      "Requirement already satisfied: typing-extensions>=4.6.1 in /Users/lucastavrs2/miniconda/lib/python3.10/site-packages (from pydantic<3,>=1->langchain[docarray]) (4.7.1)\n",
      "Requirement already satisfied: annotated-types>=0.4.0 in /Users/lucastavrs2/miniconda/lib/python3.10/site-packages (from pydantic<3,>=1->langchain[docarray]) (0.6.0)\n",
      "Requirement already satisfied: urllib3<1.27,>=1.21.1 in /Users/lucastavrs2/miniconda/lib/python3.10/site-packages (from requests<3,>=2->langchain[docarray]) (1.26.15)\n",
      "Requirement already satisfied: idna<4,>=2.5 in /Users/lucastavrs2/miniconda/lib/python3.10/site-packages (from requests<3,>=2->langchain[docarray]) (3.4)\n",
      "Requirement already satisfied: certifi>=2017.4.17 in /Users/lucastavrs2/miniconda/lib/python3.10/site-packages (from requests<3,>=2->langchain[docarray]) (2023.7.22)\n",
      "Requirement already satisfied: greenlet!=0.4.17 in /Users/lucastavrs2/miniconda/lib/python3.10/site-packages (from SQLAlchemy<3,>=1.4->langchain[docarray]) (2.0.2)\n",
      "Requirement already satisfied: sniffio>=1.1 in /Users/lucastavrs2/miniconda/lib/python3.10/site-packages (from anyio<5,>=3->langchain-core<0.2,>=0.1.29->langchain[docarray]) (1.3.1)\n",
      "Requirement already satisfied: exceptiongroup>=1.0.2 in /Users/lucastavrs2/miniconda/lib/python3.10/site-packages (from anyio<5,>=3->langchain-core<0.2,>=0.1.29->langchain[docarray]) (1.1.1)\n",
      "Requirement already satisfied: pygments<3.0.0,>=2.13.0 in /Users/lucastavrs2/miniconda/lib/python3.10/site-packages (from rich>=13.1.0->docarray[hnswlib]<0.33.0,>=0.32.0->langchain[docarray]) (2.16.1)\n",
      "Requirement already satisfied: markdown-it-py>=2.2.0 in /Users/lucastavrs2/miniconda/lib/python3.10/site-packages (from rich>=13.1.0->docarray[hnswlib]<0.33.0,>=0.32.0->langchain[docarray]) (3.0.0)\n",
      "Requirement already satisfied: types-urllib3 in /Users/lucastavrs2/miniconda/lib/python3.10/site-packages (from types-requests>=2.28.11.6->docarray[hnswlib]<0.33.0,>=0.32.0->langchain[docarray]) (1.26.25.14)\n",
      "Requirement already satisfied: mypy-extensions>=0.3.0 in /Users/lucastavrs2/miniconda/lib/python3.10/site-packages (from typing-inspect<1,>=0.4.0->dataclasses-json<0.7,>=0.5.7->langchain[docarray]) (1.0.0)\n",
      "Requirement already satisfied: mdurl~=0.1 in /Users/lucastavrs2/miniconda/lib/python3.10/site-packages (from markdown-it-py>=2.2.0->rich>=13.1.0->docarray[hnswlib]<0.33.0,>=0.32.0->langchain[docarray]) (0.1.2)\n",
      "Note: you may need to restart the kernel to use updated packages.\n"
     ]
    }
   ],
   "source": [
    "%pip install \"langchain[docarray]\""
   ]
  },
  {
   "cell_type": "code",
   "execution_count": 104,
   "metadata": {},
   "outputs": [
    {
     "name": "stdout",
     "output_type": "stream",
     "text": [
      "Name: docarray\n",
      "Version: 0.32.1\n",
      "Summary: The data structure for multimodal data\n",
      "Home-page: https://docarray.jina.ai/\n",
      "Author: DocArray\n",
      "Author-email: \n",
      "License: Apache 2.0\n",
      "Location: /Users/lucastavrs2/miniconda/lib/python3.10/site-packages\n",
      "Requires: numpy, orjson, pydantic, rich, types-requests, typing-inspect\n",
      "Required-by: \n",
      "Note: you may need to restart the kernel to use updated packages.\n"
     ]
    }
   ],
   "source": [
    "%pip show docarray"
   ]
  },
  {
   "cell_type": "code",
   "execution_count": 105,
   "metadata": {},
   "outputs": [
    {
     "name": "stdout",
     "output_type": "stream",
     "text": [
      "Requirement already satisfied: docarray in /Users/lucastavrs2/miniconda/lib/python3.10/site-packages (0.32.1)\n",
      "Collecting docarray\n",
      "  Downloading docarray-0.40.0-py3-none-any.whl (270 kB)\n",
      "\u001b[2K     \u001b[90m━━━━━━━━━━━━━━━━━━━━━━━━━━━━━━━━━━━━━━━\u001b[0m \u001b[32m270.2/270.2 kB\u001b[0m \u001b[31m5.0 MB/s\u001b[0m eta \u001b[36m0:00:00\u001b[0m00:01\u001b[0m\n",
      "\u001b[?25hRequirement already satisfied: numpy>=1.17.3 in /Users/lucastavrs2/miniconda/lib/python3.10/site-packages (from docarray) (1.24.4)\n",
      "Requirement already satisfied: orjson>=3.8.2 in /Users/lucastavrs2/miniconda/lib/python3.10/site-packages (from docarray) (3.9.15)\n",
      "Requirement already satisfied: typing-inspect>=0.8.0 in /Users/lucastavrs2/miniconda/lib/python3.10/site-packages (from docarray) (0.9.0)\n",
      "Requirement already satisfied: types-requests>=2.28.11.6 in /Users/lucastavrs2/miniconda/lib/python3.10/site-packages (from docarray) (2.31.0.6)\n",
      "Requirement already satisfied: pydantic>=1.10.8 in /Users/lucastavrs2/miniconda/lib/python3.10/site-packages (from docarray) (2.6.3)\n",
      "Requirement already satisfied: rich>=13.1.0 in /Users/lucastavrs2/miniconda/lib/python3.10/site-packages (from docarray) (13.7.1)\n",
      "Requirement already satisfied: typing-extensions>=4.6.1 in /Users/lucastavrs2/miniconda/lib/python3.10/site-packages (from pydantic>=1.10.8->docarray) (4.7.1)\n",
      "Requirement already satisfied: pydantic-core==2.16.3 in /Users/lucastavrs2/miniconda/lib/python3.10/site-packages (from pydantic>=1.10.8->docarray) (2.16.3)\n",
      "Requirement already satisfied: annotated-types>=0.4.0 in /Users/lucastavrs2/miniconda/lib/python3.10/site-packages (from pydantic>=1.10.8->docarray) (0.6.0)\n",
      "Requirement already satisfied: pygments<3.0.0,>=2.13.0 in /Users/lucastavrs2/miniconda/lib/python3.10/site-packages (from rich>=13.1.0->docarray) (2.16.1)\n",
      "Requirement already satisfied: markdown-it-py>=2.2.0 in /Users/lucastavrs2/miniconda/lib/python3.10/site-packages (from rich>=13.1.0->docarray) (3.0.0)\n",
      "Requirement already satisfied: types-urllib3 in /Users/lucastavrs2/miniconda/lib/python3.10/site-packages (from types-requests>=2.28.11.6->docarray) (1.26.25.14)\n",
      "Requirement already satisfied: mypy-extensions>=0.3.0 in /Users/lucastavrs2/miniconda/lib/python3.10/site-packages (from typing-inspect>=0.8.0->docarray) (1.0.0)\n",
      "Requirement already satisfied: mdurl~=0.1 in /Users/lucastavrs2/miniconda/lib/python3.10/site-packages (from markdown-it-py>=2.2.0->rich>=13.1.0->docarray) (0.1.2)\n",
      "Installing collected packages: docarray\n",
      "  Attempting uninstall: docarray\n",
      "    Found existing installation: docarray 0.32.1\n",
      "    Uninstalling docarray-0.32.1:\n",
      "      Successfully uninstalled docarray-0.32.1\n",
      "Successfully installed docarray-0.40.0\n",
      "Note: you may need to restart the kernel to use updated packages.\n"
     ]
    }
   ],
   "source": [
    "%pip install --upgrade docarray"
   ]
  },
  {
   "cell_type": "code",
   "execution_count": 1,
   "metadata": {},
   "outputs": [],
   "source": [
    "from langchain.document_loaders import WikipediaLoader"
   ]
  },
  {
   "cell_type": "code",
   "execution_count": 2,
   "metadata": {},
   "outputs": [],
   "source": [
    "loader = WikipediaLoader(query=\"Seinfeld\", load_max_docs=10, lang=\"pt\")"
   ]
  },
  {
   "cell_type": "code",
   "execution_count": 3,
   "metadata": {},
   "outputs": [],
   "source": [
    "docs = loader.load()"
   ]
  },
  {
   "cell_type": "code",
   "execution_count": 4,
   "metadata": {},
   "outputs": [
    {
     "data": {
      "text/plain": [
       "['Seinfeld',\n",
       " 'Jerry Seinfeld',\n",
       " 'Larry David',\n",
       " 'Julia Louis-Dreyfus',\n",
       " 'Evan Seinfeld',\n",
       " 'Michael Richards',\n",
       " 'Jerry Stiller',\n",
       " 'Chris Rock',\n",
       " 'Lista de episódios de Seinfeld',\n",
       " 'Jason Alexander']"
      ]
     },
     "execution_count": 4,
     "metadata": {},
     "output_type": "execute_result"
    }
   ],
   "source": [
    "list(map(lambda x: x.metadata['title'], docs))"
   ]
  },
  {
   "cell_type": "code",
   "execution_count": 5,
   "metadata": {},
   "outputs": [],
   "source": [
    "from langchain.vectorstores import DocArrayInMemorySearch"
   ]
  },
  {
   "cell_type": "code",
   "execution_count": 9,
   "metadata": {},
   "outputs": [
    {
     "ename": "NameError",
     "evalue": "name 'embeddings' is not defined",
     "output_type": "error",
     "traceback": [
      "\u001b[0;31m---------------------------------------------------------------------------\u001b[0m",
      "\u001b[0;31mNameError\u001b[0m                                 Traceback (most recent call last)",
      "Cell \u001b[0;32mIn[9], line 3\u001b[0m\n\u001b[1;32m      1\u001b[0m db \u001b[39m=\u001b[39m DocArrayInMemorySearch\u001b[39m.\u001b[39mfrom_documents(\n\u001b[1;32m      2\u001b[0m     docs,\n\u001b[0;32m----> 3\u001b[0m     embeddings\n\u001b[1;32m      4\u001b[0m )\n",
      "\u001b[0;31mNameError\u001b[0m: name 'embeddings' is not defined"
     ]
    }
   ],
   "source": [
    "db = DocArrayInMemorySearch.from_documents(\n",
    "    docs,\n",
    "    embeddings\n",
    ")"
   ]
  },
  {
   "cell_type": "code",
   "execution_count": null,
   "metadata": {},
   "outputs": [],
   "source": []
  }
 ],
 "metadata": {
  "kernelspec": {
   "display_name": "base",
   "language": "python",
   "name": "python3"
  },
  "language_info": {
   "codemirror_mode": {
    "name": "ipython",
    "version": 3
   },
   "file_extension": ".py",
   "mimetype": "text/x-python",
   "name": "python",
   "nbconvert_exporter": "python",
   "pygments_lexer": "ipython3",
   "version": "3.10.10"
  },
  "orig_nbformat": 4
 },
 "nbformat": 4,
 "nbformat_minor": 2
}
