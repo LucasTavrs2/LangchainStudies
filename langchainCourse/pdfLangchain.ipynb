{
 "cells": [
  {
   "cell_type": "code",
   "execution_count": 2,
   "metadata": {},
   "outputs": [
    {
     "name": "stderr",
     "output_type": "stream",
     "text": [
      "/Users/lucastavrs2/miniconda/lib/python3.10/site-packages/langchain_core/_api/deprecation.py:117: LangChainDeprecationWarning: The class `langchain_community.chat_models.openai.ChatOpenAI` was deprecated in langchain-community 0.0.10 and will be removed in 0.2.0. An updated version of the class exists in the langchain-openai package and should be used instead. To use it run `pip install -U langchain-openai` and import as `from langchain_openai import ChatOpenAI`.\n",
      "  warn_deprecated(\n"
     ]
    }
   ],
   "source": [
    "from langchain import OpenAI\n",
    "from langchain.chat_models import ChatOpenAI\n",
    "\n",
    "from langchain.schema import (\n",
    "    HumanMessage,\n",
    "    SystemMessage\n",
    ")\n",
    "\n",
    "llm = ChatOpenAI(openai_api_key='', temperature=0.9, model_name=\"gpt-4\")"
   ]
  },
  {
   "cell_type": "code",
   "execution_count": 3,
   "metadata": {},
   "outputs": [
    {
     "name": "stderr",
     "output_type": "stream",
     "text": [
      "/Users/lucastavrs2/miniconda/lib/python3.10/site-packages/langchain_core/_api/deprecation.py:117: LangChainDeprecationWarning: The function `__call__` was deprecated in LangChain 0.1.7 and will be removed in 0.2.0. Use invoke instead.\n",
      "  warn_deprecated(\n"
     ]
    },
    {
     "data": {
      "text/plain": [
       "AIMessage(content='A capital do Brasil é Brasília.')"
      ]
     },
     "execution_count": 3,
     "metadata": {},
     "output_type": "execute_result"
    }
   ],
   "source": [
    "response = llm([HumanMessage(content=\"Qual a capital do Brasil?\")])\n",
    "response"
   ]
  },
  {
   "cell_type": "code",
   "execution_count": 4,
   "metadata": {},
   "outputs": [
    {
     "name": "stderr",
     "output_type": "stream",
     "text": [
      "/Users/lucastavrs2/miniconda/lib/python3.10/site-packages/tqdm/auto.py:21: TqdmWarning: IProgress not found. Please update jupyter and ipywidgets. See https://ipywidgets.readthedocs.io/en/stable/user_install.html\n",
      "  from .autonotebook import tqdm as notebook_tqdm\n"
     ]
    }
   ],
   "source": [
    "import os\n",
    "import pandas as pd\n",
    "from transformers import GPT2TokenizerFast\n",
    "from langchain.document_loaders import PyPDFLoader\n",
    "from langchain.text_splitter import RecursiveCharacterTextSplitter\n",
    "from langchain.embeddings import OpenAIEmbeddings\n",
    "from langchain.vectorstores import FAISS\n",
    "from langchain.chains.question_answering import load_qa_chain\n",
    "from langchain.llms import OpenAI\n",
    "from langchain.chains import ConversationalRetrievalChain"
   ]
  },
  {
   "cell_type": "code",
   "execution_count": 5,
   "metadata": {},
   "outputs": [
    {
     "name": "stdout",
     "output_type": "stream",
     "text": [
      "Requirement already satisfied: textract in /Users/lucastavrs2/miniconda/lib/python3.10/site-packages (1.6.5)\n",
      "Requirement already satisfied: beautifulsoup4~=4.8.0 in /Users/lucastavrs2/miniconda/lib/python3.10/site-packages (from textract) (4.8.2)\n",
      "Requirement already satisfied: SpeechRecognition~=3.8.1 in /Users/lucastavrs2/miniconda/lib/python3.10/site-packages (from textract) (3.8.1)\n",
      "Requirement already satisfied: six~=1.12.0 in /Users/lucastavrs2/miniconda/lib/python3.10/site-packages (from textract) (1.12.0)\n",
      "Requirement already satisfied: xlrd~=1.2.0 in /Users/lucastavrs2/miniconda/lib/python3.10/site-packages (from textract) (1.2.0)\n",
      "Requirement already satisfied: chardet==3.* in /Users/lucastavrs2/miniconda/lib/python3.10/site-packages (from textract) (3.0.4)\n",
      "Requirement already satisfied: argcomplete~=1.10.0 in /Users/lucastavrs2/miniconda/lib/python3.10/site-packages (from textract) (1.10.3)\n",
      "Requirement already satisfied: extract-msg<=0.29.* in /Users/lucastavrs2/miniconda/lib/python3.10/site-packages (from textract) (0.28.7)\n",
      "Requirement already satisfied: pdfminer.six==20191110 in /Users/lucastavrs2/miniconda/lib/python3.10/site-packages (from textract) (20191110)\n",
      "Requirement already satisfied: docx2txt~=0.8 in /Users/lucastavrs2/miniconda/lib/python3.10/site-packages (from textract) (0.8)\n",
      "Requirement already satisfied: python-pptx~=0.6.18 in /Users/lucastavrs2/miniconda/lib/python3.10/site-packages (from textract) (0.6.23)\n",
      "Requirement already satisfied: sortedcontainers in /Users/lucastavrs2/miniconda/lib/python3.10/site-packages (from pdfminer.six==20191110->textract) (2.4.0)\n",
      "Requirement already satisfied: pycryptodome in /Users/lucastavrs2/miniconda/lib/python3.10/site-packages (from pdfminer.six==20191110->textract) (3.20.0)\n",
      "Requirement already satisfied: soupsieve>=1.2 in /Users/lucastavrs2/miniconda/lib/python3.10/site-packages (from beautifulsoup4~=4.8.0->textract) (2.5)\n",
      "Requirement already satisfied: compressed-rtf>=1.0.6 in /Users/lucastavrs2/miniconda/lib/python3.10/site-packages (from extract-msg<=0.29.*->textract) (1.0.6)\n",
      "Requirement already satisfied: ebcdic>=1.1.1 in /Users/lucastavrs2/miniconda/lib/python3.10/site-packages (from extract-msg<=0.29.*->textract) (1.1.1)\n",
      "Requirement already satisfied: imapclient==2.1.0 in /Users/lucastavrs2/miniconda/lib/python3.10/site-packages (from extract-msg<=0.29.*->textract) (2.1.0)\n",
      "Requirement already satisfied: tzlocal>=2.1 in /Users/lucastavrs2/miniconda/lib/python3.10/site-packages (from extract-msg<=0.29.*->textract) (5.2)\n",
      "Requirement already satisfied: olefile>=0.46 in /Users/lucastavrs2/miniconda/lib/python3.10/site-packages (from extract-msg<=0.29.*->textract) (0.47)\n",
      "Requirement already satisfied: Pillow>=3.3.2 in /Users/lucastavrs2/miniconda/lib/python3.10/site-packages (from python-pptx~=0.6.18->textract) (10.0.0)\n",
      "Requirement already satisfied: XlsxWriter>=0.5.7 in /Users/lucastavrs2/miniconda/lib/python3.10/site-packages (from python-pptx~=0.6.18->textract) (3.2.0)\n",
      "Requirement already satisfied: lxml>=3.1.0 in /Users/lucastavrs2/miniconda/lib/python3.10/site-packages (from python-pptx~=0.6.18->textract) (4.9.3)\n",
      "Note: you may need to restart the kernel to use updated packages.\n"
     ]
    }
   ],
   "source": [
    "%pip install textract"
   ]
  },
  {
   "cell_type": "code",
   "execution_count": 6,
   "metadata": {},
   "outputs": [],
   "source": [
    "\n",
    "import textract\n",
    "doc = textract.process(\"/Users/lucastavrs2/Desktop/Lucas/langchainCourse/ainda.pdf\")\n",
    "\n",
    "with open(\"/Users/lucastavrs2/Desktop/Lucas/langchainCourse/ainda.txt\", 'w', encoding=\"utf-8\") as f:\n",
    "    f.write(doc.decode('utf-8'))\n",
    "\n",
    "\n",
    "with open(\"/Users/lucastavrs2/Desktop/Lucas/langchainCourse/ainda.txt\", \"r\", encoding=\"utf-8\") as f:\n",
    "    text= f.read()\n",
    "\n",
    "\n",
    "tokenizer = GPT2TokenizerFast.from_pretrained(\"gpt2\")\n",
    "\n",
    "def count_tokens(text: str) -> int:\n",
    "    return len(tokenizer.encode(text))\n",
    "\n",
    "text_splitter = RecursiveCharacterTextSplitter(\n",
    "    chunk_size= 512,\n",
    "    chunk_overlap= 24,\n",
    "    length_function= count_tokens,\n",
    ")\n",
    "\n",
    "chunks = text_splitter.create_documents([text])"
   ]
  },
  {
   "cell_type": "code",
   "execution_count": 7,
   "metadata": {},
   "outputs": [
    {
     "name": "stdout",
     "output_type": "stream",
     "text": [
      "huggingface/tokenizers: The current process just got forked, after parallelism has already been used. Disabling parallelism to avoid deadlocks...\n",
      "To disable this warning, you can either:\n",
      "\t- Avoid using `tokenizers` before the fork if possible\n",
      "\t- Explicitly set the environment variable TOKENIZERS_PARALLELISM=(true | false)\n",
      "Requirement already satisfied: faiss-cpu in /Users/lucastavrs2/miniconda/lib/python3.10/site-packages (1.8.0)\n",
      "Requirement already satisfied: numpy in /Users/lucastavrs2/miniconda/lib/python3.10/site-packages (from faiss-cpu) (1.24.4)\n",
      "Note: you may need to restart the kernel to use updated packages.\n"
     ]
    }
   ],
   "source": [
    "%pip install faiss-cpu"
   ]
  },
  {
   "cell_type": "code",
   "execution_count": 8,
   "metadata": {},
   "outputs": [
    {
     "name": "stderr",
     "output_type": "stream",
     "text": [
      "/Users/lucastavrs2/miniconda/lib/python3.10/site-packages/langchain_core/_api/deprecation.py:117: LangChainDeprecationWarning: The class `langchain_community.embeddings.openai.OpenAIEmbeddings` was deprecated in langchain-community 0.0.9 and will be removed in 0.2.0. An updated version of the class exists in the langchain-openai package and should be used instead. To use it run `pip install -U langchain-openai` and import as `from langchain_openai import OpenAIEmbeddings`.\n",
      "  warn_deprecated(\n"
     ]
    }
   ],
   "source": [
    "embeddings = OpenAIEmbeddings(openai_api_key=\"\", model=\"text-embedding-ada-002\")\n",
    "\n",
    "db = FAISS.from_documents(chunks, embeddings)"
   ]
  },
  {
   "cell_type": "code",
   "execution_count": 9,
   "metadata": {},
   "outputs": [
    {
     "data": {
      "text/plain": [
       "Document(page_content='Dedicatória \\nÀs filhas mais novas dos autores: a Sofia e a Diana! \\n \\nRicardo Queirós e Filipe Portela \\n \\n \\n \\n \\nAgradecimentos \\nEm primeiro lugar, gostaríamos de enaltecer o trabalho de \\nqualidade das revisões feitas pela Ana Correia e Laura Faia, da \\nFCA.  \\n\\nGostaríamos também de agradecer à equipa ioTeam, \\nnomeadamente à Bruna Ferreira pelo desenho do logotipo e ao \\nDaniel Carneiro pelo apoio no desenvolvimento da API \\nincluída no projeto apresentado neste livro. \\n\\nFinalmente, um agradecimento à Sandra Correia e ao  \\nEng.° Frederico Annes, da FCA, pela simpatia e pelo  \\napoio no decorrer desta nossa aventura editorial. \\n \\nRicardo Queirós e Filipe Portela \\n \\n\\n\\x0cTITULO DO LIVRO \\n\\n \\n\\n© FCA – Editora de Informática \\n\\n\\x0c \\n\\nÍÍNNDDIICCEE  \\n\\nOS AUTORES ......................................................................................................XI \\nPREFÁCIO...................................................................................................... XIII \\n0. INTRODUÇÃO ................................................................................................... 1 \\n0.1. O que posso encontrar neste livro? ................................................................................................... 1 \\n0.2. Público-alvo ......................................................................................................................................... 2 \\n0.3. Convenções .......................................................................................................................................... 2 \\n0.4. Organização do livro .......................................................................................................................... 2 \\n0.5. Suporte ................................................................................................................................................. 3')"
      ]
     },
     "execution_count": 9,
     "metadata": {},
     "output_type": "execute_result"
    }
   ],
   "source": [
    "query = \"Fale sobre a introdução\"\n",
    "docs = db.similarity_search(query) \n",
    "docs[0]"
   ]
  },
  {
   "cell_type": "code",
   "execution_count": 11,
   "metadata": {},
   "outputs": [
    {
     "name": "stderr",
     "output_type": "stream",
     "text": [
      "/Users/lucastavrs2/miniconda/lib/python3.10/site-packages/langchain_core/_api/deprecation.py:117: LangChainDeprecationWarning: The function `run` was deprecated in LangChain 0.1.0 and will be removed in 0.2.0. Use invoke instead.\n",
      "  warn_deprecated(\n"
     ]
    },
    {
     "data": {
      "text/plain": [
       "' A introdução deste livro apresenta aos leitores as principais tendências no desenvolvimento Web, fornecendo um roteiro simples e prático do estado atual da Web em termos de desenvolvimento front-end e back-end. Além disso, é introduzido o projeto prático Animalec, uma aplicação educacional sobre animais, e são abordadas as várias fases de gestão do projeto, como análise de requisitos, prototipagem e edição e controlo de versões do código da aplicação.'"
      ]
     },
     "execution_count": 11,
     "metadata": {},
     "output_type": "execute_result"
    }
   ],
   "source": [
    "chain = load_qa_chain(OpenAI(openai_api_key=\"\", temperature=0),chain_type=\"stuff\")\n",
    "\n",
    "chain.run(input_documents=docs, question=query)"
   ]
  },
  {
   "cell_type": "code",
   "execution_count": null,
   "metadata": {},
   "outputs": [],
   "source": []
  }
 ],
 "metadata": {
  "kernelspec": {
   "display_name": "base",
   "language": "python",
   "name": "python3"
  },
  "language_info": {
   "codemirror_mode": {
    "name": "ipython",
    "version": 3
   },
   "file_extension": ".py",
   "mimetype": "text/x-python",
   "name": "python",
   "nbconvert_exporter": "python",
   "pygments_lexer": "ipython3",
   "version": "3.10.10"
  },
  "orig_nbformat": 4
 },
 "nbformat": 4,
 "nbformat_minor": 2
}
